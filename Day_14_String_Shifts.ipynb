{
  "nbformat": 4,
  "nbformat_minor": 0,
  "metadata": {
    "colab": {
      "name": "Day 14 - String Shifts.ipynb",
      "provenance": [],
      "authorship_tag": "ABX9TyO5WSYf03xXDMfd//J7Lygu",
      "include_colab_link": true
    },
    "kernelspec": {
      "name": "python3",
      "display_name": "Python 3"
    }
  },
  "cells": [
    {
      "cell_type": "markdown",
      "metadata": {
        "id": "view-in-github",
        "colab_type": "text"
      },
      "source": [
        "<a href=\"https://colab.research.google.com/github/bundickm/LeetCode-30-Day-Challenge/blob/master/Day_14_String_Shifts.ipynb\" target=\"_parent\"><img src=\"https://colab.research.google.com/assets/colab-badge.svg\" alt=\"Open In Colab\"/></a>"
      ]
    },
    {
      "cell_type": "markdown",
      "metadata": {
        "id": "IvxulzmgaB-8",
        "colab_type": "text"
      },
      "source": [
        "# Problem\n",
        "\n",
        "You are given a string `s` containing lowercase English letters, and a matrix shift, where shift[i] = [direction, amount]:\n",
        "- direction can be 0 (for left shift) or 1 (for right shift). \n",
        "- amount is the amount by which string s is to be shifted.\n",
        "- A left shift by 1 means remove the first character of s and append it to the end.\n",
        "- Similarly, a right shift by 1 means remove the last character of s and add it to the beginning.\n",
        "\n",
        "Return the final string after all operations.\n",
        "\n",
        " \n",
        "\n",
        "Example 1:\n",
        "```\n",
        "Input: s = \"abc\", shift = [[0,1],[1,2]]\n",
        "Output: \"cab\"\n",
        "Explanation: \n",
        "[0,1] means shift to left by 1. \"abc\" -> \"bca\"\n",
        "[1,2] means shift to right by 2. \"bca\" -> \"cab\"\n",
        "```\n",
        "Example 2:\n",
        "```\n",
        "Input: s = \"abcdefg\", shift = [[1,1],[1,1],[0,2],[1,3]]\n",
        "Output: \"efgabcd\"\n",
        "Explanation:  \n",
        "[1,1] means shift to right by 1. \"abcdefg\" -> \"gabcdef\"\n",
        "[1,1] means shift to right by 1. \"gabcdef\" -> \"fgabcde\"\n",
        "[0,2] means shift to left by 2. \"fgabcde\" -> \"abcdefg\"\n",
        "[1,3] means shift to right by 3. \"abcdefg\" -> \"efgabcd\"\n",
        "```\n",
        " \n",
        "\n",
        "Constraints:\n",
        "- 1 <= s.length <= 100\n",
        "- s only contains lower case English letters.\n",
        "- 1 <= shift.length <= 100\n",
        "- shift[i].length == 2\n",
        "- 0 <= shift[i][0] <= 1\n",
        "- 0 <= shift[i][1] <= 100\n"
      ]
    },
    {
      "cell_type": "markdown",
      "metadata": {
        "id": "JPebBtdrepJU",
        "colab_type": "text"
      },
      "source": [
        "# Solution"
      ]
    },
    {
      "cell_type": "code",
      "metadata": {
        "id": "32M6Vsj0asIc",
        "colab_type": "code",
        "colab": {}
      },
      "source": [
        "s = \"xqgwkiqpif\"\n",
        "shift = [[1,4],[0,7],[0,8],[0,7],[0,6],[1,3],[0,1],[1,7],[0,5],[0,6]]\n",
        "\n",
        "def string_shift(s: str, shift: list) -> str:\n",
        "    right_count = 0\n",
        "\n",
        "    for move in shift:\n",
        "        if move[0]:\n",
        "            right_count += move[1]\n",
        "        else:\n",
        "            right_count -= move[1]\n",
        "    \n",
        "    if right_count == 0:\n",
        "        return s\n",
        "    \n",
        "    right_count %= len(s)\n",
        "    return s[-right_count:] + s[:-right_count]"
      ],
      "execution_count": 0,
      "outputs": []
    },
    {
      "cell_type": "code",
      "metadata": {
        "id": "QPpMwT8ZbWWY",
        "colab_type": "code",
        "colab": {
          "base_uri": "https://localhost:8080/",
          "height": 35
        },
        "outputId": "4cce3258-6bed-4923-80ea-6fd6274d17ba"
      },
      "source": [
        "string_shift(s, shift)"
      ],
      "execution_count": 21,
      "outputs": [
        {
          "output_type": "execute_result",
          "data": {
            "text/plain": [
              "'qpifxqgwki'"
            ]
          },
          "metadata": {
            "tags": []
          },
          "execution_count": 21
        }
      ]
    }
  ]
}