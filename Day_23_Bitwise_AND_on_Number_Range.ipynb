{
  "nbformat": 4,
  "nbformat_minor": 0,
  "metadata": {
    "colab": {
      "name": "Day 23 - Bitwise AND on Number Range.ipynb",
      "provenance": [],
      "authorship_tag": "ABX9TyMnjkvcFG5mU1KoGncRmYSm",
      "include_colab_link": true
    },
    "kernelspec": {
      "name": "python3",
      "display_name": "Python 3"
    }
  },
  "cells": [
    {
      "cell_type": "markdown",
      "metadata": {
        "id": "view-in-github",
        "colab_type": "text"
      },
      "source": [
        "<a href=\"https://colab.research.google.com/github/bundickm/LeetCode-30-Day-Challenge/blob/master/Day_23_Bitwise_AND_on_Number_Range.ipynb\" target=\"_parent\"><img src=\"https://colab.research.google.com/assets/colab-badge.svg\" alt=\"Open In Colab\"/></a>"
      ]
    },
    {
      "cell_type": "markdown",
      "metadata": {
        "id": "aTca3cU0mt0x",
        "colab_type": "text"
      },
      "source": [
        "# Problem\n",
        "\n",
        "Given a range [m, n] where 0 <= m <= n <= 2147483647, return the bitwise AND of all numbers in this range, inclusive.\n",
        "\n",
        "Example 1:\n",
        "```\n",
        "Input: [5,7]\n",
        "Output: 4\n",
        "```\n",
        "Example 2:\n",
        "```\n",
        "Input: [0,1]\n",
        "Output: 0\n",
        "```"
      ]
    },
    {
      "cell_type": "markdown",
      "metadata": {
        "id": "fU9pFbPpm038",
        "colab_type": "text"
      },
      "source": [
        "# Solution"
      ]
    },
    {
      "cell_type": "code",
      "metadata": {
        "id": "ZKOU-LkqmUvO",
        "colab_type": "code",
        "colab": {}
      },
      "source": [
        "def range_bitwise_and(m: int, n: int) -> int:\n",
        "    if m == n:\n",
        "        return m\n",
        "\n",
        "    while(m < n):\n",
        "        n -= (n & -n)\n",
        "    return n"
      ],
      "execution_count": 0,
      "outputs": []
    },
    {
      "cell_type": "code",
      "metadata": {
        "id": "D-B7dfRLzjNs",
        "colab_type": "code",
        "colab": {}
      },
      "source": [
        "def range_bitwise_and(m: int, n: int) -> int:\n",
        "    print('m start:', m)\n",
        "    print('n start:', n)\n",
        "    print('n binary:', bin(n))\n",
        "    print()\n",
        "    if m == n:\n",
        "        return m\n",
        "\n",
        "    while(m < n):\n",
        "        print('n:', n)\n",
        "        print('n binary:', bin(n))\n",
        "        print('binary n & -n:', bin(n & -n))\n",
        "        n -= (n & -n)\n",
        "        print()\n",
        "    return n"
      ],
      "execution_count": 0,
      "outputs": []
    },
    {
      "cell_type": "code",
      "metadata": {
        "id": "JMmTlL7hm8EV",
        "colab_type": "code",
        "colab": {
          "base_uri": "https://localhost:8080/",
          "height": 254
        },
        "outputId": "fc28fa7e-1501-4231-b5b9-f3da9acf99fd"
      },
      "source": [
        "range_bitwise_and(5, 10)"
      ],
      "execution_count": 31,
      "outputs": [
        {
          "output_type": "stream",
          "text": [
            "m start: 5\n",
            "n start: 10\n",
            "n binary: 0b1010\n",
            "\n",
            "n: 10\n",
            "n binary: 0b1010\n",
            "binary n & -n: 0b10\n",
            "\n",
            "n: 8\n",
            "n binary: 0b1000\n",
            "binary n & -n: 0b1000\n",
            "\n"
          ],
          "name": "stdout"
        },
        {
          "output_type": "execute_result",
          "data": {
            "text/plain": [
              "0"
            ]
          },
          "metadata": {
            "tags": []
          },
          "execution_count": 31
        }
      ]
    }
  ]
}