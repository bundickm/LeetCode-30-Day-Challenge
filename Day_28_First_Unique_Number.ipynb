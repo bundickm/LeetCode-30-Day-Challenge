{
  "nbformat": 4,
  "nbformat_minor": 0,
  "metadata": {
    "colab": {
      "name": "Day 28 - First Unique Number.ipynb",
      "provenance": [],
      "authorship_tag": "ABX9TyOkrEZVTuL9M1lRBC1tY44/",
      "include_colab_link": true
    },
    "kernelspec": {
      "name": "python3",
      "display_name": "Python 3"
    }
  },
  "cells": [
    {
      "cell_type": "markdown",
      "metadata": {
        "id": "view-in-github",
        "colab_type": "text"
      },
      "source": [
        "<a href=\"https://colab.research.google.com/github/bundickm/LeetCode-30-Day-Challenge/blob/master/Day_28_First_Unique_Number.ipynb\" target=\"_parent\"><img src=\"https://colab.research.google.com/assets/colab-badge.svg\" alt=\"Open In Colab\"/></a>"
      ]
    },
    {
      "cell_type": "markdown",
      "metadata": {
        "id": "03OdvpfYw4nC",
        "colab_type": "text"
      },
      "source": [
        "# Problem\n",
        "\n",
        "You have a queue of integers, you need to retrieve the first unique integer in the queue.\n",
        "\n",
        "Implement the FirstUnique class:\n",
        "- `FirstUnique(int[] nums)` Initializes the object with the numbers in the queue.\n",
        "- `int showFirstUnique()` returns the value of the first unique integer of the queue, and returns -1 if there is no such integer.\n",
        "- `void add(int value)` insert value to the queue.\n",
        "\n",
        " \n",
        "\n",
        "Example 1:\n",
        "```\n",
        "Input: \n",
        "[\"FirstUnique\",\"showFirstUnique\",\"add\",\"showFirstUnique\",\"add\",\"showFirstUnique\",\"add\",\"showFirstUnique\"]\n",
        "[[[2,3,5]],[],[5],[],[2],[],[3],[]]\n",
        "Output: \n",
        "[null,2,null,2,null,3,null,-1]\n",
        "\n",
        "Explanation: \n",
        "FirstUnique firstUnique = new FirstUnique([2,3,5]);\n",
        "firstUnique.showFirstUnique(); // return 2\n",
        "firstUnique.add(5);            // the queue is now [2,3,5,5]\n",
        "firstUnique.showFirstUnique(); // return 2\n",
        "firstUnique.add(2);            // the queue is now [2,3,5,5,2]\n",
        "firstUnique.showFirstUnique(); // return 3\n",
        "firstUnique.add(3);            // the queue is now [2,3,5,5,2,3]\n",
        "firstUnique.showFirstUnique(); // return -1\n",
        "```\n",
        "Example 2:\n",
        "```\n",
        "Input: \n",
        "[\"FirstUnique\",\"showFirstUnique\",\"add\",\"add\",\"add\",\"add\",\"add\",\"showFirstUnique\"]\n",
        "[[[7,7,7,7,7,7]],[],[7],[3],[3],[7],[17],[]]\n",
        "Output: \n",
        "[null,-1,null,null,null,null,null,17]\n",
        "\n",
        "Explanation: \n",
        "FirstUnique firstUnique = new FirstUnique([7,7,7,7,7,7]);\n",
        "firstUnique.showFirstUnique(); // return -1\n",
        "firstUnique.add(7);            // the queue is now [7,7,7,7,7,7,7]\n",
        "firstUnique.add(3);            // the queue is now [7,7,7,7,7,7,7,3]\n",
        "firstUnique.add(3);            // the queue is now [7,7,7,7,7,7,7,3,3]\n",
        "firstUnique.add(7);            // the queue is now [7,7,7,7,7,7,7,3,3,7]\n",
        "firstUnique.add(17);           // the queue is now [7,7,7,7,7,7,7,3,3,7,17]\n",
        "firstUnique.showFirstUnique(); // return 17\n",
        "```\n",
        "Example 3:\n",
        "```\n",
        "Input: \n",
        "[\"FirstUnique\",\"showFirstUnique\",\"add\",\"showFirstUnique\"]\n",
        "[[[809]],[],[809],[]]\n",
        "Output: \n",
        "[null,809,null,-1]\n",
        "\n",
        "Explanation: \n",
        "FirstUnique firstUnique = new FirstUnique([809]);\n",
        "firstUnique.showFirstUnique(); // return 809\n",
        "firstUnique.add(809);          // the queue is now [809,809]\n",
        "firstUnique.showFirstUnique(); // return -1\n",
        "```\n",
        " \n",
        "\n",
        "Constraints:\n",
        "\n",
        "    1 <= nums.length <= 10^5\n",
        "    1 <= nums[i] <= 10^8\n",
        "    1 <= value <= 10^8\n",
        "    At most 50000 calls will be made to showFirstUnique and add.\n"
      ]
    },
    {
      "cell_type": "markdown",
      "metadata": {
        "id": "K9o_hugfy14A",
        "colab_type": "text"
      },
      "source": [
        "# Solution"
      ]
    },
    {
      "cell_type": "code",
      "metadata": {
        "id": "3GsYRJIRzfsp",
        "colab_type": "code",
        "colab": {}
      },
      "source": [
        "class FirstUnique:\n",
        "\n",
        "    def __init__(self, nums: list) -> None:\n",
        "        self.queue = []\n",
        "        self.frequencies = {}\n",
        "        for value in nums:\n",
        "            self.add(value)\n",
        "\n",
        "\n",
        "    def showFirstUnique(self) -> int:\n",
        "        while (len(self.queue) > 0) and self.frequencies[self.queue[0]] > 1:\n",
        "            self.queue.pop(0)\n",
        "        if (len(self.queue) == 0):\n",
        "            return -1\n",
        "        else:\n",
        "            return self.queue[0]\n",
        "\n",
        "    \n",
        "    def add(self, value: int) -> None:\n",
        "        if value in self.frequencies:\n",
        "            self.frequencies[value] += 1\n",
        "        else:\n",
        "            self.frequencies[value] = 1\n",
        "            self.queue.append(value)"
      ],
      "execution_count": 0,
      "outputs": []
    },
    {
      "cell_type": "code",
      "metadata": {
        "id": "nIdebVF41Ub3",
        "colab_type": "code",
        "colab": {}
      },
      "source": [
        ""
      ],
      "execution_count": 0,
      "outputs": []
    }
  ]
}