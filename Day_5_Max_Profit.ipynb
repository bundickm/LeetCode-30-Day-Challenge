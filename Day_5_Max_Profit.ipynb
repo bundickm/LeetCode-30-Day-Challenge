{
  "nbformat": 4,
  "nbformat_minor": 0,
  "metadata": {
    "colab": {
      "name": "Day 5 - Max Profit.ipynb",
      "provenance": [],
      "authorship_tag": "ABX9TyP1f/huHZXmzu39Xj95BTvB",
      "include_colab_link": true
    },
    "kernelspec": {
      "name": "python3",
      "display_name": "Python 3"
    }
  },
  "cells": [
    {
      "cell_type": "markdown",
      "metadata": {
        "id": "view-in-github",
        "colab_type": "text"
      },
      "source": [
        "<a href=\"https://colab.research.google.com/github/bundickm/LeetCode-30-Day-Challenge/blob/master/Day_5_Max_Profit.ipynb\" target=\"_parent\"><img src=\"https://colab.research.google.com/assets/colab-badge.svg\" alt=\"Open In Colab\"/></a>"
      ]
    },
    {
      "cell_type": "markdown",
      "metadata": {
        "id": "D_tIwX5p5waq",
        "colab_type": "text"
      },
      "source": [
        "# Problem\n",
        "\n",
        "Say you have an array for which the ith element is the price of a given stock on day i.\n",
        "\n",
        "Design an algorithm to find the maximum profit. You may complete as many transactions as you like (i.e., buy one and sell one share of the stock multiple times).\n",
        "\n",
        "Note: You may not engage in multiple transactions at the same time (i.e., you must sell the stock before you buy again).\n",
        "\n",
        "Example 1:\n",
        "```\n",
        "Input: [7,1,5,3,6,4]\n",
        "Output: 7\n",
        "Explanation: Buy on day 2 (price = 1) and sell on day 3 (price = 5), profit = 5-1 = 4.\n",
        "             Then buy on day 4 (price = 3) and sell on day 5 (price = 6), profit = 6-3 = 3.\n",
        "```\n",
        "Example 2:\n",
        "```\n",
        "Input: [1,2,3,4,5]\n",
        "Output: 4\n",
        "Explanation: Buy on day 1 (price = 1) and sell on day 5 (price = 5), profit = 5-1 = 4.\n",
        "             Note that you cannot buy on day 1, buy on day 2 and sell them later, as you are\n",
        "             engaging multiple transactions at the same time. You must sell before buying again.\n",
        "```\n",
        "Example 3:\n",
        "```\n",
        "Input: [7,6,4,3,1]\n",
        "Output: 0\n",
        "Explanation: In this case, no transaction is done, i.e. max profit = 0.\n",
        "```"
      ]
    },
    {
      "cell_type": "markdown",
      "metadata": {
        "id": "8zdTNef-9RNX",
        "colab_type": "text"
      },
      "source": [
        "# Solution"
      ]
    },
    {
      "cell_type": "code",
      "metadata": {
        "id": "Zd_eDzp95vIJ",
        "colab_type": "code",
        "colab": {}
      },
      "source": [
        "import numpy as np\n",
        "\n",
        "def maxProfit(prices: list) -> int:\n",
        "    return sum(profit for profit in np.diff(prices) if profit > 0)"
      ],
      "execution_count": 0,
      "outputs": []
    },
    {
      "cell_type": "code",
      "metadata": {
        "id": "8HGa9T0753Ex",
        "colab_type": "code",
        "colab": {
          "base_uri": "https://localhost:8080/",
          "height": 35
        },
        "outputId": "f6936e76-8717-4100-9ff8-ac92c87d1f16"
      },
      "source": [
        "maxProfit([7,1,5,3,6,4])"
      ],
      "execution_count": 11,
      "outputs": [
        {
          "output_type": "execute_result",
          "data": {
            "text/plain": [
              "7"
            ]
          },
          "metadata": {
            "tags": []
          },
          "execution_count": 11
        }
      ]
    },
    {
      "cell_type": "code",
      "metadata": {
        "id": "lv5ZR68i7Yss",
        "colab_type": "code",
        "colab": {}
      },
      "source": [
        ""
      ],
      "execution_count": 0,
      "outputs": []
    }
  ]
}