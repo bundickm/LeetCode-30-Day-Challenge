{
  "nbformat": 4,
  "nbformat_minor": 0,
  "metadata": {
    "colab": {
      "name": "Day 30 - Binary Tree Valid Sequence Check.ipynb",
      "provenance": [],
      "collapsed_sections": [],
      "authorship_tag": "ABX9TyNP6uk0grF7opRegIZDlLL6",
      "include_colab_link": true
    },
    "kernelspec": {
      "name": "python3",
      "display_name": "Python 3"
    }
  },
  "cells": [
    {
      "cell_type": "markdown",
      "metadata": {
        "id": "view-in-github",
        "colab_type": "text"
      },
      "source": [
        "<a href=\"https://colab.research.google.com/github/bundickm/LeetCode-30-Day-Challenge/blob/master/Day_30_Binary_Tree_Valid_Sequence_Check.ipynb\" target=\"_parent\"><img src=\"https://colab.research.google.com/assets/colab-badge.svg\" alt=\"Open In Colab\"/></a>"
      ]
    },
    {
      "cell_type": "markdown",
      "metadata": {
        "id": "xXeHKcWX6w4Y",
        "colab_type": "text"
      },
      "source": [
        "# Problem\n",
        "\n",
        "Given a binary tree where each path going from the root to any leaf form a valid sequence, check if a given string is a valid sequence in such binary tree. \n",
        "\n",
        "We get the given string from the concatenation of an array of integers arr and the concatenation of all values of the nodes along a path results in a sequence in the given binary tree.\n",
        "\n",
        "Example 1:\n",
        "![](https://assets.leetcode.com/uploads/2019/12/18/leetcode_testcase_1.png)\n",
        "```\n",
        "Input: root = [0,1,0,0,1,0,null,null,1,0,0], arr = [0,1,0,1]\n",
        "Output: true\n",
        "Explanation: \n",
        "The path 0 -> 1 -> 0 -> 1 is a valid sequence (green color in the figure). \n",
        "Other valid sequences are: \n",
        "0 -> 1 -> 1 -> 0 \n",
        "0 -> 0 -> 0\n",
        "```\n",
        "Example 2:\n",
        "![](https://assets.leetcode.com/uploads/2019/12/18/leetcode_testcase_2.png)\n",
        "```\n",
        "Input: root = [0,1,0,0,1,0,null,null,1,0,0], arr = [0,0,1]\n",
        "Output: false \n",
        "Explanation: The path 0 -> 0 -> 1 does not exist, therefore it is not even a sequence.\n",
        "```\n",
        "Example 3:\n",
        "![](https://assets.leetcode.com/uploads/2019/12/18/leetcode_testcase_3.png)\n",
        "```\n",
        "Input: root = [0,1,0,0,1,0,null,null,1,0,0], arr = [0,1,1]\n",
        "Output: false\n",
        "Explanation: The path 0 -> 1 -> 1 is a sequence, but it is not a valid sequence.\n",
        "```\n",
        " \n",
        "Constraints:\n",
        "- 1 <= arr.length <= 5000\n",
        "- 0 <= arr[i] <= 9\n",
        "- Each node's value is between [0 - 9].\n"
      ]
    },
    {
      "cell_type": "markdown",
      "metadata": {
        "id": "j_EX5L_17NUI",
        "colab_type": "text"
      },
      "source": [
        "# Solution"
      ]
    },
    {
      "cell_type": "code",
      "metadata": {
        "id": "nx0WyBYe7JUj",
        "colab_type": "code",
        "colab": {}
      },
      "source": [
        "# Definition for a binary tree node.\n",
        "# class TreeNode:\n",
        "#     def __init__(self, val=0, left=None, right=None):\n",
        "#         self.val = val\n",
        "#         self.left = left\n",
        "#         self.right = right\n",
        "\n",
        "class Solution:\n",
        "    def isValidSequence(self, root: TreeNode, arr: List[int]) -> bool:\n",
        "        length = len(arr)\n",
        "        i = 0\n",
        "        return self.checkpath(root, arr, length, i)\n",
        "\n",
        "\n",
        "    def checkpath(self, root, arr, length, i):\n",
        "        if root is None:\n",
        "            return length == 0\n",
        "        if (i == length-1) and ((root.left == None) and (root.right == None)) and (root.val == arr[i]):\n",
        "            return True\n",
        "        if (i < length) and (root.val == arr[i]):\n",
        "            return (self.checkpath(root.left, arr, length, i+1) or (self.checkpath(root.right, arr, length, i+1)))"
      ],
      "execution_count": 0,
      "outputs": []
    }
  ]
}