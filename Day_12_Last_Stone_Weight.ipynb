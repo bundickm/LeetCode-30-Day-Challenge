{
  "nbformat": 4,
  "nbformat_minor": 0,
  "metadata": {
    "colab": {
      "name": "Day 12 - Last Stone Weight.ipynb",
      "provenance": [],
      "authorship_tag": "ABX9TyMEJFaiTb3IZ6jNUpY4Upl2",
      "include_colab_link": true
    },
    "kernelspec": {
      "name": "python3",
      "display_name": "Python 3"
    }
  },
  "cells": [
    {
      "cell_type": "markdown",
      "metadata": {
        "id": "view-in-github",
        "colab_type": "text"
      },
      "source": [
        "<a href=\"https://colab.research.google.com/github/bundickm/LeetCode-30-Day-Challenge/blob/master/Day_12_Last_Stone_Weight.ipynb\" target=\"_parent\"><img src=\"https://colab.research.google.com/assets/colab-badge.svg\" alt=\"Open In Colab\"/></a>"
      ]
    },
    {
      "cell_type": "markdown",
      "metadata": {
        "id": "7vjMcrAcNy3Q",
        "colab_type": "text"
      },
      "source": [
        "# Solution\n",
        "\n",
        "We have a collection of stones, each stone has a positive integer weight.\n",
        "\n",
        "Each turn, we choose the two heaviest stones and smash them together.  Suppose the stones have weights x and y with x <= y.  The result of this smash is:\n",
        "- If x == y, both stones are totally destroyed;\n",
        "- If x != y, the stone of weight x is totally destroyed, and the stone of weight y has new weight y-x.\n",
        "\n",
        "At the end, there is at most 1 stone left.  Return the weight of this stone (or 0 if there are no stones left.)\n",
        "\n",
        "Example 1:\n",
        "```\n",
        "Input: [2,7,4,1,8,1]\n",
        "Output: 1\n",
        "Explanation: \n",
        "We combine 7 and 8 to get 1 so the array converts to [2,4,1,1,1] then,\n",
        "we combine 2 and 4 to get 2 so the array converts to [2,1,1,1] then,\n",
        "we combine 2 and 1 to get 1 so the array converts to [1,1,1] then,\n",
        "we combine 1 and 1 to get 0 so the array converts to [1] then that's the value of last stone.\n",
        "```\n",
        "\n",
        "Note:\n",
        "1. 1 <= stones.length <= 30\n",
        "2. 1 <= stones[i] <= 1000\n",
        "\n"
      ]
    },
    {
      "cell_type": "markdown",
      "metadata": {
        "id": "RUL5JVweaiEp",
        "colab_type": "text"
      },
      "source": [
        "# Solution"
      ]
    },
    {
      "cell_type": "code",
      "metadata": {
        "id": "RpWyxLuwTWa7",
        "colab_type": "code",
        "colab": {}
      },
      "source": [
        "import heapq\n",
        "from random import choices"
      ],
      "execution_count": 0,
      "outputs": []
    },
    {
      "cell_type": "code",
      "metadata": {
        "id": "HhDSYmdIc1ho",
        "colab_type": "code",
        "colab": {}
      },
      "source": [
        "arr = choices(list(range(1,1001)), k=30)"
      ],
      "execution_count": 0,
      "outputs": []
    },
    {
      "cell_type": "code",
      "metadata": {
        "id": "Crlk0QFtTYTi",
        "colab_type": "code",
        "colab": {}
      },
      "source": [
        "def last_stone_weight(stones: list) -> int:\n",
        "    heap = []\n",
        "\n",
        "    # Python doesn't have a maxheap implementation so we need to reverse the values\n",
        "    for value in arr:\n",
        "        heapq.heappush(heap, -value)\n",
        "\n",
        "    while len(heap) > 1:\n",
        "        x = -heapq.heappop(heap)\n",
        "        y = -heapq.heappop(heap)\n",
        "\n",
        "        if x > y:\n",
        "            heapq.heappush(heap, -(x-y))\n",
        "    \n",
        "    if heap:\n",
        "        return -heap[0]\n",
        "    return 0"
      ],
      "execution_count": 0,
      "outputs": []
    },
    {
      "cell_type": "code",
      "metadata": {
        "id": "aa1A8t3oT4uw",
        "colab_type": "code",
        "colab": {
          "base_uri": "https://localhost:8080/",
          "height": 72
        },
        "outputId": "3e4e936a-6928-4daa-92a6-456f08818ef9"
      },
      "source": [
        "%time last_stone_weight(arr)"
      ],
      "execution_count": 99,
      "outputs": [
        {
          "output_type": "stream",
          "text": [
            "CPU times: user 0 ns, sys: 53 µs, total: 53 µs\n",
            "Wall time: 58.9 µs\n"
          ],
          "name": "stdout"
        },
        {
          "output_type": "execute_result",
          "data": {
            "text/plain": [
              "1"
            ]
          },
          "metadata": {
            "tags": []
          },
          "execution_count": 99
        }
      ]
    },
    {
      "cell_type": "code",
      "metadata": {
        "id": "R8UbHeMgbxJ2",
        "colab_type": "code",
        "colab": {}
      },
      "source": [
        "def last_stone_weight(stones: list) -> int: \n",
        "    while len(stones) > 1:\n",
        "        x = max(stones)\n",
        "        stones.remove(x)\n",
        "        \n",
        "        y = max(stones)\n",
        "        stones.remove(y)\n",
        "        \n",
        "        stones.append(x-y)\n",
        "    return stones[0]"
      ],
      "execution_count": 0,
      "outputs": []
    },
    {
      "cell_type": "code",
      "metadata": {
        "id": "1LM4gegWchC4",
        "colab_type": "code",
        "colab": {
          "base_uri": "https://localhost:8080/",
          "height": 72
        },
        "outputId": "37615bb2-8d4f-4aca-f1ec-9b0bc83c5782"
      },
      "source": [
        "%time lastStoneWeight(arr)"
      ],
      "execution_count": 101,
      "outputs": [
        {
          "output_type": "stream",
          "text": [
            "CPU times: user 99 µs, sys: 5 µs, total: 104 µs\n",
            "Wall time: 109 µs\n"
          ],
          "name": "stdout"
        },
        {
          "output_type": "execute_result",
          "data": {
            "text/plain": [
              "1"
            ]
          },
          "metadata": {
            "tags": []
          },
          "execution_count": 101
        }
      ]
    }
  ]
}