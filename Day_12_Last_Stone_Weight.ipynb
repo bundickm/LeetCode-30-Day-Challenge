{
  "nbformat": 4,
  "nbformat_minor": 0,
  "metadata": {
    "colab": {
      "name": "Day 12 - Last Stone Weight.ipynb",
      "provenance": [],
      "authorship_tag": "ABX9TyPQ02PHW3keWC+RFQ23phR4",
      "include_colab_link": true
    },
    "kernelspec": {
      "name": "python3",
      "display_name": "Python 3"
    }
  },
  "cells": [
    {
      "cell_type": "markdown",
      "metadata": {
        "id": "view-in-github",
        "colab_type": "text"
      },
      "source": [
        "<a href=\"https://colab.research.google.com/github/bundickm/LeetCode-30-Day-Challenge/blob/master/Day_12_Last_Stone_Weight.ipynb\" target=\"_parent\"><img src=\"https://colab.research.google.com/assets/colab-badge.svg\" alt=\"Open In Colab\"/></a>"
      ]
    },
    {
      "cell_type": "code",
      "metadata": {
        "id": "vKKiEeddNLN3",
        "colab_type": "code",
        "colab": {}
      },
      "source": [
        ""
      ],
      "execution_count": 0,
      "outputs": []
    },
    {
      "cell_type": "markdown",
      "metadata": {
        "id": "7vjMcrAcNy3Q",
        "colab_type": "text"
      },
      "source": [
        "# Solution\n",
        "\n",
        "We have a collection of stones, each stone has a positive integer weight.\n",
        "\n",
        "Each turn, we choose the two heaviest stones and smash them together.  Suppose the stones have weights x and y with x <= y.  The result of this smash is:\n",
        "- If x == y, both stones are totally destroyed;\n",
        "- If x != y, the stone of weight x is totally destroyed, and the stone of weight y has new weight y-x.\n",
        "\n",
        "At the end, there is at most 1 stone left.  Return the weight of this stone (or 0 if there are no stones left.)\n",
        "\n",
        "Example 1:\n",
        "```\n",
        "Input: [2,7,4,1,8,1]\n",
        "Output: 1\n",
        "Explanation: \n",
        "We combine 7 and 8 to get 1 so the array converts to [2,4,1,1,1] then,\n",
        "we combine 2 and 4 to get 2 so the array converts to [2,1,1,1] then,\n",
        "we combine 2 and 1 to get 1 so the array converts to [1,1,1] then,\n",
        "we combine 1 and 1 to get 0 so the array converts to [1] then that's the value of last stone.\n",
        "```\n",
        "\n",
        "Note:\n",
        "1. 1 <= stones.length <= 30\n",
        "2. 1 <= stones[i] <= 1000\n",
        "\n"
      ]
    },
    {
      "cell_type": "code",
      "metadata": {
        "id": "n0w-hfu8ODpQ",
        "colab_type": "code",
        "colab": {}
      },
      "source": [
        "def stone_smash(arr):\n",
        "    arr = sorted(arr, reverse=True)\n",
        "    print(arr)"
      ],
      "execution_count": 0,
      "outputs": []
    },
    {
      "cell_type": "code",
      "metadata": {
        "id": "ttX2FS5UQuBl",
        "colab_type": "code",
        "colab": {
          "base_uri": "https://localhost:8080/",
          "height": 35
        },
        "outputId": "03d33192-2a2d-4ef4-b19a-d459e641b8a2"
      },
      "source": [
        "[2,7,4,1,8,1]\n",
        "[2,7,4,8]\n",
        "[1, 4, 2]\n",
        "[2, 1]\n",
        "[1]"
      ],
      "execution_count": 13,
      "outputs": [
        {
          "output_type": "execute_result",
          "data": {
            "text/plain": [
              "[1]"
            ]
          },
          "metadata": {
            "tags": []
          },
          "execution_count": 13
        }
      ]
    },
    {
      "cell_type": "code",
      "metadata": {
        "id": "huDRLQseR_m6",
        "colab_type": "code",
        "colab": {
          "base_uri": "https://localhost:8080/",
          "height": 172
        },
        "outputId": "eb7a02d7-d858-4f33-8d72-d9b0b2157282"
      },
      "source": [
        "heapq([5,3,2])"
      ],
      "execution_count": 16,
      "outputs": [
        {
          "output_type": "error",
          "ename": "TypeError",
          "evalue": "ignored",
          "traceback": [
            "\u001b[0;31m---------------------------------------------------------------------------\u001b[0m",
            "\u001b[0;31mTypeError\u001b[0m                                 Traceback (most recent call last)",
            "\u001b[0;32m<ipython-input-16-0f14dc44d8e9>\u001b[0m in \u001b[0;36m<module>\u001b[0;34m()\u001b[0m\n\u001b[0;32m----> 1\u001b[0;31m \u001b[0mheapq\u001b[0m\u001b[0;34m(\u001b[0m\u001b[0;34m[\u001b[0m\u001b[0;36m5\u001b[0m\u001b[0;34m,\u001b[0m\u001b[0;36m3\u001b[0m\u001b[0;34m,\u001b[0m\u001b[0;36m2\u001b[0m\u001b[0;34m]\u001b[0m\u001b[0;34m)\u001b[0m\u001b[0;34m\u001b[0m\u001b[0;34m\u001b[0m\u001b[0m\n\u001b[0m",
            "\u001b[0;31mTypeError\u001b[0m: 'module' object is not callable"
          ]
        }
      ]
    },
    {
      "cell_type": "code",
      "metadata": {
        "id": "RpWyxLuwTWa7",
        "colab_type": "code",
        "colab": {}
      },
      "source": [
        "import heapq"
      ],
      "execution_count": 0,
      "outputs": []
    },
    {
      "cell_type": "code",
      "metadata": {
        "id": "Crlk0QFtTYTi",
        "colab_type": "code",
        "colab": {}
      },
      "source": [
        "arr = [2,7,4,1,8,1]\n",
        "def last_stone_weight(stones: list) -> int:\n",
        "    heap = []\n",
        "\n",
        "    for value in arr:\n",
        "        heapq.heappush(heap, -value)\n",
        "\n",
        "    while len(heap) > 1:\n",
        "        x = -heapq.heappop(heap)\n",
        "        y = -heapq.heappop(heap)\n",
        "        heapq.heappush(heap, -(x-y))\n",
        "    \n",
        "    return -heap[0]"
      ],
      "execution_count": 0,
      "outputs": []
    },
    {
      "cell_type": "code",
      "metadata": {
        "id": "aa1A8t3oT4uw",
        "colab_type": "code",
        "colab": {
          "base_uri": "https://localhost:8080/",
          "height": 35
        },
        "outputId": "c5048164-051d-4453-a476-a772bac0abc1"
      },
      "source": [
        "last_stone_weight(arr)"
      ],
      "execution_count": 50,
      "outputs": [
        {
          "output_type": "execute_result",
          "data": {
            "text/plain": [
              "1"
            ]
          },
          "metadata": {
            "tags": []
          },
          "execution_count": 50
        }
      ]
    },
    {
      "cell_type": "code",
      "metadata": {
        "id": "C9SWnOwhUL_c",
        "colab_type": "code",
        "colab": {
          "base_uri": "https://localhost:8080/",
          "height": 35
        },
        "outputId": "a37656ce-d1c6-440c-cad1-5940687a79ab"
      },
      "source": [
        "arr"
      ],
      "execution_count": 20,
      "outputs": [
        {
          "output_type": "execute_result",
          "data": {
            "text/plain": [
              "[1, 1, 2, 7, 8, 4]"
            ]
          },
          "metadata": {
            "tags": []
          },
          "execution_count": 20
        }
      ]
    },
    {
      "cell_type": "code",
      "metadata": {
        "id": "PgUxd99kUM-h",
        "colab_type": "code",
        "colab": {}
      },
      "source": [
        ""
      ],
      "execution_count": 0,
      "outputs": []
    }
  ]
}