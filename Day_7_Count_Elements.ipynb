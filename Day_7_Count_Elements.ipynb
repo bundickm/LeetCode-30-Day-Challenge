{
  "nbformat": 4,
  "nbformat_minor": 0,
  "metadata": {
    "colab": {
      "name": "Day 7 - Count Elements.ipynb",
      "provenance": [],
      "authorship_tag": "ABX9TyPMqfO75GkvnbzvtjtUkwkj",
      "include_colab_link": true
    },
    "kernelspec": {
      "name": "python3",
      "display_name": "Python 3"
    }
  },
  "cells": [
    {
      "cell_type": "markdown",
      "metadata": {
        "id": "view-in-github",
        "colab_type": "text"
      },
      "source": [
        "<a href=\"https://colab.research.google.com/github/bundickm/LeetCode-30-Day-Challenge/blob/master/Day_7_Count_Elements.ipynb\" target=\"_parent\"><img src=\"https://colab.research.google.com/assets/colab-badge.svg\" alt=\"Open In Colab\"/></a>"
      ]
    },
    {
      "cell_type": "markdown",
      "metadata": {
        "id": "2gG9hYVeUgWq",
        "colab_type": "text"
      },
      "source": [
        "# Problem\n",
        "\n",
        "Given an integer array arr, count element x such that x + 1 is also in arr.\n",
        "\n",
        "If there're duplicates in arr, count them seperately.\n",
        "\n",
        " \n",
        "\n",
        "Example 1:\n",
        "```\n",
        "Input: arr = [1,2,3]\n",
        "Output: 2\n",
        "Explanation: 1 and 2 are counted cause 2 and 3 are in arr.\n",
        "```\n",
        "Example 2:\n",
        "```\n",
        "Input: arr = [1,1,3,3,5,5,7,7]\n",
        "Output: 0\n",
        "Explanation: No numbers are counted, cause there's no 2, 4, 6, or 8 in arr.\n",
        "```\n",
        "Example 3:\n",
        "```\n",
        "Input: arr = [1,3,2,3,5,0]\n",
        "Output: 3\n",
        "Explanation: 0, 1 and 2 are counted cause 1, 2 and 3 are in arr.\n",
        "```\n",
        "Example 4:\n",
        "```\n",
        "Input: arr = [1,1,2,2]\n",
        "Output: 2\n",
        "Explanation: Two 1s are counted cause 2 is in arr.\n",
        "```\n",
        " \n",
        "\n",
        "Constraints:\n",
        "```\n",
        "    1 <= arr.length <= 1000\n",
        "    0 <= arr[i] <= 1000\n",
        "```"
      ]
    },
    {
      "cell_type": "markdown",
      "metadata": {
        "id": "0VfFSRvPVrOZ",
        "colab_type": "text"
      },
      "source": [
        "# Solution"
      ]
    },
    {
      "cell_type": "code",
      "metadata": {
        "id": "-nQc7K9OUegW",
        "colab_type": "code",
        "colab": {
          "base_uri": "https://localhost:8080/",
          "height": 53
        },
        "outputId": "2eedca5e-9968-4871-b175-4effb91d12f7"
      },
      "source": [
        "def count_elements(arr: list) -> int:\n",
        "    set_of_arr = set(arr)\n",
        "    count = 0\n",
        "\n",
        "    for elem in arr:\n",
        "        if (elem + 1) in set_of_arr:\n",
        "            count += 1\n",
        "    \n",
        "    return count\n",
        "\n",
        "%timeit count_elements([1,3,2,3,5,0])"
      ],
      "execution_count": 19,
      "outputs": [
        {
          "output_type": "stream",
          "text": [
            "The slowest run took 5.10 times longer than the fastest. This could mean that an intermediate result is being cached.\n",
            "1000000 loops, best of 3: 719 ns per loop\n"
          ],
          "name": "stdout"
        }
      ]
    },
    {
      "cell_type": "code",
      "metadata": {
        "id": "TWlq-KCkWPLZ",
        "colab_type": "code",
        "colab": {
          "base_uri": "https://localhost:8080/",
          "height": 53
        },
        "outputId": "88a5e5e1-afd6-4a33-908d-f1ae32c54eaf"
      },
      "source": [
        "def count_elements(arr: list) -> int:\n",
        "    set_of_arr = set(arr)\n",
        "    return len([x for x in arr if (x + 1) in set_of_arr])\n",
        "%timeit count_elements([1,3,2,3,5,0])"
      ],
      "execution_count": 21,
      "outputs": [
        {
          "output_type": "stream",
          "text": [
            "The slowest run took 6.89 times longer than the fastest. This could mean that an intermediate result is being cached.\n",
            "1000000 loops, best of 3: 921 ns per loop\n"
          ],
          "name": "stdout"
        }
      ]
    },
    {
      "cell_type": "code",
      "metadata": {
        "id": "m0gE_E8NXMYC",
        "colab_type": "code",
        "colab": {}
      },
      "source": [
        ""
      ],
      "execution_count": 0,
      "outputs": []
    }
  ]
}