{
  "nbformat": 4,
  "nbformat_minor": 0,
  "metadata": {
    "colab": {
      "name": "Day 2 - Happy Number.ipynb",
      "provenance": [],
      "authorship_tag": "ABX9TyOs61giZWn72FIPoFZxKtZP",
      "include_colab_link": true
    },
    "kernelspec": {
      "name": "python3",
      "display_name": "Python 3"
    }
  },
  "cells": [
    {
      "cell_type": "markdown",
      "metadata": {
        "id": "view-in-github",
        "colab_type": "text"
      },
      "source": [
        "<a href=\"https://colab.research.google.com/github/bundickm/LeetCode-30-Day-Challenge/blob/master/Day_2_Happy_Number.ipynb\" target=\"_parent\"><img src=\"https://colab.research.google.com/assets/colab-badge.svg\" alt=\"Open In Colab\"/></a>"
      ]
    },
    {
      "cell_type": "markdown",
      "metadata": {
        "id": "UsNsDJ2UofQQ",
        "colab_type": "text"
      },
      "source": [
        "# Problem\n",
        "Write an algorithm to determine if a number is \"happy\".\n",
        "\n",
        "A happy number is a number defined by the following process: Starting with any positive integer, replace the number by the sum of the squares of its digits, and repeat the process until the number equals 1 (where it will stay), or it loops endlessly in a cycle which does not include 1. Those numbers for which this process ends in 1 are happy numbers.\n",
        "\n",
        "Example: \n",
        "```\n",
        "Input: 19\n",
        "Output: true\n",
        "Explanation: \n",
        "(1^2) + (9^2) = 82\n",
        "(8^2) + (2^2) = 68\n",
        "(6^2) + (8^2) = 100\n",
        "(1^2 + (0^2) + (0^2) = 1\n",
        "```"
      ]
    },
    {
      "cell_type": "markdown",
      "metadata": {
        "id": "RM5N_rXTpIQg",
        "colab_type": "text"
      },
      "source": [
        "# Solution"
      ]
    },
    {
      "cell_type": "code",
      "metadata": {
        "id": "6VrPMdULpG-C",
        "colab_type": "code",
        "colab": {}
      },
      "source": [
        "def is_happy(n: int) -> bool:\n",
        "    seen = set()\n",
        "    while n not in seen:\n",
        "        seen.add(n)\n",
        "\n",
        "        sum_of_squares = 0\n",
        "        while n > 9:\n",
        "            sum_of_squares += (n % 10)**2\n",
        "            n = n // 10\n",
        "        sum_of_squares += (n % 10)**2\n",
        "\n",
        "        if sum_of_squares == 1:\n",
        "            return True\n",
        "        n = total\n",
        "    return False"
      ],
      "execution_count": 0,
      "outputs": []
    },
    {
      "cell_type": "code",
      "metadata": {
        "id": "ZIu_EMCdrypz",
        "colab_type": "code",
        "colab": {}
      },
      "source": [
        "def is_happy(n: int) -> bool:\n",
        "        tried = set()\n",
        "        while n not in tried:\n",
        "            tried.add(n)\n",
        "            n = sum(int(c)**2 for c in str(n))\n",
        "            if n == 1: return True\n",
        "        return False"
      ],
      "execution_count": 0,
      "outputs": []
    },
    {
      "cell_type": "code",
      "metadata": {
        "id": "BDKiCPekxfYO",
        "colab_type": "code",
        "colab": {}
      },
      "source": [
        ""
      ],
      "execution_count": 0,
      "outputs": []
    }
  ]
}