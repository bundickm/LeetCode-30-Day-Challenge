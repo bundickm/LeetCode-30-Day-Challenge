{
  "nbformat": 4,
  "nbformat_minor": 0,
  "metadata": {
    "colab": {
      "name": "Day 10 - Min Stack.ipynb",
      "provenance": [],
      "collapsed_sections": [],
      "authorship_tag": "ABX9TyMe2+dkqQYRqTrWDTi97ItQ",
      "include_colab_link": true
    },
    "kernelspec": {
      "name": "python3",
      "display_name": "Python 3"
    }
  },
  "cells": [
    {
      "cell_type": "markdown",
      "metadata": {
        "id": "view-in-github",
        "colab_type": "text"
      },
      "source": [
        "<a href=\"https://colab.research.google.com/github/bundickm/LeetCode-30-Day-Challenge/blob/master/Day_10_Min_Stack.ipynb\" target=\"_parent\"><img src=\"https://colab.research.google.com/assets/colab-badge.svg\" alt=\"Open In Colab\"/></a>"
      ]
    },
    {
      "cell_type": "markdown",
      "metadata": {
        "id": "yYfANWIRrUmq",
        "colab_type": "text"
      },
      "source": [
        "# Problem\n",
        "\n",
        "Design a stack that supports push, pop, top, and retrieving the minimum element in constant time.\n",
        "\n",
        "- push(x) -- Push element x onto stack.\n",
        "- pop() -- Removes the element on top of the stack.\n",
        "- top() -- Get the top element.\n",
        "- getMin() -- Retrieve the minimum element in the stack.\n",
        "\n",
        " \n",
        "\n",
        "Example:\n",
        "```\n",
        "MinStack minStack = new MinStack();\n",
        "minStack.push(-2);\n",
        "minStack.push(0);\n",
        "minStack.push(-3);\n",
        "minStack.getMin();   --> Returns -3.\n",
        "minStack.pop();\n",
        "minStack.top();      --> Returns 0.\n",
        "minStack.getMin();   --> Returns -2.\n",
        "```"
      ]
    },
    {
      "cell_type": "markdown",
      "metadata": {
        "id": "ImSIS6Hqri4p",
        "colab_type": "text"
      },
      "source": [
        "# Solution"
      ]
    },
    {
      "cell_type": "code",
      "metadata": {
        "id": "G1hfC8fbvqTu",
        "colab_type": "code",
        "colab": {}
      },
      "source": [
        "class MinStack:\n",
        "    def __init__(self):\n",
        "        self.stack = []\n",
        "\n",
        "    def push(self, x: int) -> None:\n",
        "        if self.stack:\n",
        "            minimum = self.stack[-1][1]\n",
        "            if minimum > x:\n",
        "                minimum = x\n",
        "        else:\n",
        "            minimum = x\n",
        "        self.stack.append((x, minimum))\n",
        "\n",
        "    def pop(self) -> None:\n",
        "        self.stack.pop()\n",
        "        \n",
        "    def top(self) -> int:\n",
        "        return self.stack[-1][0]\n",
        "\n",
        "    def getMin(self) -> int:\n",
        "        return self.stack[-1][1]"
      ],
      "execution_count": 0,
      "outputs": []
    },
    {
      "cell_type": "code",
      "metadata": {
        "id": "kXibqvImuk6V",
        "colab_type": "code",
        "colab": {
          "base_uri": "https://localhost:8080/",
          "height": 72
        },
        "outputId": "a24e9a9b-1b7b-4f56-90e4-45fe0c8914ca"
      },
      "source": [
        "minStack = MinStack()\n",
        "minStack.push(-2)\n",
        "minStack.push(0)\n",
        "minStack.push(-3)\n",
        "print(minStack.getMin()) #   --> Returns -3.\n",
        "minStack.pop()\n",
        "print(minStack.top()) #     --> Returns 0.\n",
        "print(minStack.getMin()) #   --> Returns -2."
      ],
      "execution_count": 15,
      "outputs": [
        {
          "output_type": "stream",
          "text": [
            "-3\n",
            "0\n",
            "-2\n"
          ],
          "name": "stdout"
        }
      ]
    },
    {
      "cell_type": "code",
      "metadata": {
        "id": "u_96QXfAuldl",
        "colab_type": "code",
        "colab": {}
      },
      "source": [
        ""
      ],
      "execution_count": 0,
      "outputs": []
    }
  ]
}