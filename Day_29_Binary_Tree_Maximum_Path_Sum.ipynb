{
  "nbformat": 4,
  "nbformat_minor": 0,
  "metadata": {
    "colab": {
      "name": "Day 29 - Binary Tree Maximum Path Sum.ipynb",
      "provenance": [],
      "authorship_tag": "ABX9TyNlVrr9HWVeLsU5f0sjRahX",
      "include_colab_link": true
    },
    "kernelspec": {
      "name": "python3",
      "display_name": "Python 3"
    }
  },
  "cells": [
    {
      "cell_type": "markdown",
      "metadata": {
        "id": "view-in-github",
        "colab_type": "text"
      },
      "source": [
        "<a href=\"https://colab.research.google.com/github/bundickm/LeetCode-30-Day-Challenge/blob/master/Day_29_Binary_Tree_Maximum_Path_Sum.ipynb\" target=\"_parent\"><img src=\"https://colab.research.google.com/assets/colab-badge.svg\" alt=\"Open In Colab\"/></a>"
      ]
    },
    {
      "cell_type": "markdown",
      "metadata": {
        "id": "XlldYqdonqk9",
        "colab_type": "text"
      },
      "source": [
        "# Problem\n",
        "\n",
        "Given a non-empty binary tree, find the maximum path sum.\n",
        "\n",
        "For this problem, a path is defined as any sequence of nodes from some starting node to any node in the tree along the parent-child connections. The path must contain at least one node and does not need to go through the root.\n",
        "\n",
        "Example 1:\n",
        "```\n",
        "Input: [1,2,3]\n",
        "\n",
        "       1\n",
        "      / \\\n",
        "     2   3\n",
        "\n",
        "Output: 6\n",
        "```\n",
        "Example 2:\n",
        "```\n",
        "Input: [-10,9,20,null,null,15,7]\n",
        "\n",
        "   -10\n",
        "   / \\\n",
        "  9  20\n",
        "    /  \\\n",
        "   15   7\n",
        "\n",
        "Output: 42\n",
        "```"
      ]
    },
    {
      "cell_type": "markdown",
      "metadata": {
        "id": "0ZaQVE3wn9dL",
        "colab_type": "text"
      },
      "source": [
        "# Solution"
      ]
    },
    {
      "cell_type": "code",
      "metadata": {
        "id": "G6yGvUoGnmVt",
        "colab_type": "code",
        "colab": {}
      },
      "source": [
        "def maxPathSum(root):\n",
        "    maximum = float('-inf')\n",
        "    def get_sum(root):\n",
        "        if root is None:\n",
        "            return 0\n",
        "        else:\n",
        "            ls = max(get_sum(root.left), 0)\n",
        "            rs = max(get_sum(root.right), 0)\n",
        "            maximum = max(maximum, ls + rs + root.val)\n",
        "            return max(ls, rs, 0) + root.val\n",
        "        \n",
        "    get_sum(root)\n",
        "    return maximum"
      ],
      "execution_count": 0,
      "outputs": []
    }
  ]
}