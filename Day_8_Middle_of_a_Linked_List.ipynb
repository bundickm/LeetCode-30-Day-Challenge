{
  "nbformat": 4,
  "nbformat_minor": 0,
  "metadata": {
    "colab": {
      "name": "Day 8 - Middle of a Linked List.ipynb",
      "provenance": [],
      "authorship_tag": "ABX9TyORKpcT+/kuig6oaqEUbEpR",
      "include_colab_link": true
    },
    "kernelspec": {
      "name": "python3",
      "display_name": "Python 3"
    }
  },
  "cells": [
    {
      "cell_type": "markdown",
      "metadata": {
        "id": "view-in-github",
        "colab_type": "text"
      },
      "source": [
        "<a href=\"https://colab.research.google.com/github/bundickm/LeetCode-30-Day-Challenge/blob/master/Day_8_Middle_of_a_Linked_List.ipynb\" target=\"_parent\"><img src=\"https://colab.research.google.com/assets/colab-badge.svg\" alt=\"Open In Colab\"/></a>"
      ]
    },
    {
      "cell_type": "markdown",
      "metadata": {
        "id": "8OCEqRHIWs5u",
        "colab_type": "text"
      },
      "source": [
        "# Problem\n",
        "\n",
        "Given a non-empty, singly linked list with head node head, return a middle node of linked list.\n",
        "\n",
        "If there are two middle nodes, return the second middle node.\n",
        "\n",
        " \n",
        "\n",
        "Example 1:\n",
        "```\n",
        "Input: [1,2,3,4,5]\n",
        "Output: Node 3 from this list (Serialization: [3,4,5])\n",
        "The returned node has value 3.  (The judge's serialization of this node is [3,4,5]).\n",
        "Note that we returned a ListNode object ans, such that:\n",
        "ans.val = 3, ans.next.val = 4, ans.next.next.val = 5, and ans.next.next.next = NULL.\n",
        "```\n",
        "Example 2:\n",
        "```\n",
        "Input: [1,2,3,4,5,6]\n",
        "Output: Node 4 from this list (Serialization: [4,5,6])\n",
        "Since the list has two middle nodes with values 3 and 4, we return the second one.\n",
        "```\n",
        " \n",
        "\n",
        "Note: The number of nodes in the given list will be between 1 and 100.\n",
        "\n"
      ]
    },
    {
      "cell_type": "markdown",
      "metadata": {
        "id": "K49QaBnAbG04",
        "colab_type": "text"
      },
      "source": [
        "# Solution"
      ]
    },
    {
      "cell_type": "code",
      "metadata": {
        "id": "HHgQLrVlWeZx",
        "colab_type": "code",
        "colab": {}
      },
      "source": [
        "# Definition for singly-linked list.\n",
        "class ListNode:\n",
        "    def __init__(self, x):\n",
        "        self.val = x\n",
        "        self.next = None\n",
        "\n",
        "class Solution:\n",
        "    def middleNode(head: ListNode) -> ListNode:\n",
        "        current_node = head\n",
        "        mid_node = current_node\n",
        "        length = 1\n",
        "\n",
        "        while current_node.next:\n",
        "            length += 1\n",
        "            current_node = current_node.next\n",
        "            if length % 2 == 0:\n",
        "                mid_node = mid_node.next\n",
        "                \n",
        "        return mid_node"
      ],
      "execution_count": 0,
      "outputs": []
    }
  ]
}