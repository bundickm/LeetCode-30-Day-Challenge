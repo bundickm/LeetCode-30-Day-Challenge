{
  "nbformat": 4,
  "nbformat_minor": 0,
  "metadata": {
    "colab": {
      "name": "Day 24 - LRU Cache.ipynb",
      "provenance": [],
      "collapsed_sections": [],
      "authorship_tag": "ABX9TyPL8gBcfkInKm1bc2nar9X2",
      "include_colab_link": true
    },
    "kernelspec": {
      "name": "python3",
      "display_name": "Python 3"
    }
  },
  "cells": [
    {
      "cell_type": "markdown",
      "metadata": {
        "id": "view-in-github",
        "colab_type": "text"
      },
      "source": [
        "<a href=\"https://colab.research.google.com/github/bundickm/LeetCode-30-Day-Challenge/blob/master/Day_24_LRU_Cache.ipynb\" target=\"_parent\"><img src=\"https://colab.research.google.com/assets/colab-badge.svg\" alt=\"Open In Colab\"/></a>"
      ]
    },
    {
      "cell_type": "markdown",
      "metadata": {
        "id": "pTWoG3mi5H9I",
        "colab_type": "text"
      },
      "source": [
        "# Problem\n",
        "\n",
        "Design and implement a data structure for Least Recently Used (LRU) cache. It should support the following operations: get and put.\n",
        "\n",
        "get(key) - Get the value (will always be positive) of the key if the key exists in the cache, otherwise return -1.\n",
        "put(key, value) - Set or insert the value if the key is not already present. When the cache reached its capacity, it should invalidate the least recently used item before inserting a new item.\n",
        "\n",
        "The cache is initialized with a positive capacity.\n",
        "\n",
        "Follow up:\n",
        "Could you do both operations in O(1) time complexity?\n",
        "\n",
        "Example:\n",
        "```\n",
        "LRUCache cache = new LRUCache( 2 /* capacity */ );\n",
        "\n",
        "cache.put(1, 1);\n",
        "cache.put(2, 2);\n",
        "cache.get(1);       // returns 1\n",
        "cache.put(3, 3);    // evicts key 2\n",
        "cache.get(2);       // returns -1 (not found)\n",
        "cache.put(4, 4);    // evicts key 1\n",
        "cache.get(1);       // returns -1 (not found)\n",
        "cache.get(3);       // returns 3\n",
        "cache.get(4);       // returns 4\n",
        "```"
      ]
    },
    {
      "cell_type": "markdown",
      "metadata": {
        "id": "hoRjPEpG5r-a",
        "colab_type": "text"
      },
      "source": [
        "# Solution"
      ]
    },
    {
      "cell_type": "code",
      "metadata": {
        "id": "BGPTkibo4-NQ",
        "colab_type": "code",
        "colab": {}
      },
      "source": [
        "class LRUCache:\n",
        "    from collections import OrderedDict\n",
        "\n",
        "    def __init__(self, capacity: int):\n",
        "        self.lru = OrderedDict()\n",
        "        self.capacity = capacity\n",
        "\n",
        "    def get(self, key: int) -> int:\n",
        "        if key not in self.lru:\n",
        "            return -1\n",
        "        self.lru.move_to_end(key)\n",
        "        return self.lru[key]\n",
        "        \n",
        "    def put(self, key: int, value: int) -> None:\n",
        "        if key not in self.lru:\n",
        "            if len(self.lru) >= self.capacity:\n",
        "                self.lru.popitem(last=False)\n",
        "            self.lru[key] = value\n",
        "        else:\n",
        "            self.lru[key] = value\n",
        "            self.lru.move_to_end(key)\n",
        "\n",
        "\n",
        "\n",
        "# Your LRUCache object will be instantiated and called as such:\n",
        "# obj = LRUCache(capacity)\n",
        "# param_1 = obj.get(key)\n",
        "# obj.put(key,value)"
      ],
      "execution_count": 0,
      "outputs": []
    },
    {
      "cell_type": "code",
      "metadata": {
        "id": "A3PVVgqb8ia5",
        "colab_type": "code",
        "colab": {
          "base_uri": "https://localhost:8080/",
          "height": 108
        },
        "outputId": "65adb8f2-73dd-4e48-e511-283cf9de67b8"
      },
      "source": [
        "obj = LRUCache(2)\n",
        "obj.put(1,1)\n",
        "obj.put(2,2)\n",
        "print(obj.get(1))\n",
        "obj.put(3,3)\n",
        "print(obj.get(2))\n",
        "obj.put(4,4)\n",
        "print(obj.get(1))\n",
        "print(obj.get(3))\n",
        "print(obj.get(4))"
      ],
      "execution_count": 39,
      "outputs": [
        {
          "output_type": "stream",
          "text": [
            "1\n",
            "-1\n",
            "-1\n",
            "3\n",
            "4\n"
          ],
          "name": "stdout"
        }
      ]
    }
  ]
}