{
  "nbformat": 4,
  "nbformat_minor": 0,
  "metadata": {
    "colab": {
      "name": "Day 20 - BST from Preordered Traversal.ipynb",
      "provenance": [],
      "collapsed_sections": [],
      "authorship_tag": "ABX9TyP1OCO+2dGBepYT15gI8MQQ",
      "include_colab_link": true
    },
    "kernelspec": {
      "name": "python3",
      "display_name": "Python 3"
    }
  },
  "cells": [
    {
      "cell_type": "markdown",
      "metadata": {
        "id": "view-in-github",
        "colab_type": "text"
      },
      "source": [
        "<a href=\"https://colab.research.google.com/github/bundickm/LeetCode-30-Day-Challenge/blob/master/Day_20_BST_from_Preordered_Traversal.ipynb\" target=\"_parent\"><img src=\"https://colab.research.google.com/assets/colab-badge.svg\" alt=\"Open In Colab\"/></a>"
      ]
    },
    {
      "cell_type": "markdown",
      "metadata": {
        "id": "ggET9ynKKNR2",
        "colab_type": "text"
      },
      "source": [
        "# Problem\n",
        "\n",
        "Return the root node of a binary search tree that matches the given preorder traversal.\n",
        "\n",
        "(Recall that a binary search tree is a binary tree where for every node, any descendant of node.left has a value < node.val, and any descendant of node.right has a value > node.val.  Also recall that a preorder traversal displays the value of the node first, then traverses node.left, then traverses node.right.)\n",
        "\n",
        "Example 1:\n",
        "```\n",
        "Input: [8,5,1,7,10,12]\n",
        "Output: [8,5,10,1,7,null,12]\n",
        "```\n",
        "![](https://assets.leetcode.com/uploads/2019/03/06/1266.png) \n",
        "\n",
        "Note: \n",
        "- 1 <= preorder.length <= 100\n",
        "- The values of preorder are distinct."
      ]
    },
    {
      "cell_type": "markdown",
      "metadata": {
        "id": "ceqdRGtYKsNN",
        "colab_type": "text"
      },
      "source": [
        "# Solution"
      ]
    },
    {
      "cell_type": "code",
      "metadata": {
        "id": "pU56NWwnL3UQ",
        "colab_type": "code",
        "colab": {}
      },
      "source": [
        "# Definition for a binary tree node.\n",
        "# class TreeNode:\n",
        "#     def __init__(self, x):\n",
        "#         self.val = x\n",
        "#         self.left = None\n",
        "#         self.right = None"
      ],
      "execution_count": 0,
      "outputs": []
    },
    {
      "cell_type": "code",
      "metadata": {
        "id": "dn3q4N8tKqOr",
        "colab_type": "code",
        "colab": {}
      },
      "source": [
        "def bst_from_preorder(self, preorder: List[int]) -> TreeNode:\n",
        "    def insert(node_value, root):\n",
        "        while True:\n",
        "            if root.val > node_value:\n",
        "                if not root.left:\n",
        "                    root.left = TreeNode(node_value)\n",
        "                    break\n",
        "                else:\n",
        "                    root = root.left\n",
        "            else:\n",
        "                if not root.right:\n",
        "                    root.right = TreeNode(node_value)\n",
        "                    break\n",
        "                else:\n",
        "                    root = root.right\n",
        "\n",
        "    if len(preorder) == 0:\n",
        "        return\n",
        "\n",
        "    root = TreeNode(preorder[0])\n",
        "    head = root\n",
        "\n",
        "    for i in range(1, len(preorder)):\n",
        "        head = root\n",
        "        insert(preorder[i], head)\n",
        "        \n",
        "    return head"
      ],
      "execution_count": 0,
      "outputs": []
    }
  ]
}