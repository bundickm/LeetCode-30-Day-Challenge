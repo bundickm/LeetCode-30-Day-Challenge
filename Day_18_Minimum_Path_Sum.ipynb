{
  "nbformat": 4,
  "nbformat_minor": 0,
  "metadata": {
    "colab": {
      "name": "Day 18 - Minimum Path Sum.ipynb",
      "provenance": [],
      "authorship_tag": "ABX9TyMIpwadGf0pF+RpJ25LqhUy",
      "include_colab_link": true
    },
    "kernelspec": {
      "name": "python3",
      "display_name": "Python 3"
    }
  },
  "cells": [
    {
      "cell_type": "markdown",
      "metadata": {
        "id": "view-in-github",
        "colab_type": "text"
      },
      "source": [
        "<a href=\"https://colab.research.google.com/github/bundickm/LeetCode-30-Day-Challenge/blob/master/Day_18_Minimum_Path_Sum.ipynb\" target=\"_parent\"><img src=\"https://colab.research.google.com/assets/colab-badge.svg\" alt=\"Open In Colab\"/></a>"
      ]
    },
    {
      "cell_type": "markdown",
      "metadata": {
        "id": "cDFkQiOoV9Nv",
        "colab_type": "text"
      },
      "source": [
        "# Problem\n",
        "\n",
        "Given a m x n grid filled with non-negative numbers, find a path from top left to bottom right which minimizes the sum of all numbers along its path.\n",
        "\n",
        "Note: You can only move either down or right at any point in time.\n",
        "\n",
        "Example:\n",
        "```\n",
        "Input:\n",
        "[\n",
        "  [1,3,1],\n",
        "  [1,5,1],\n",
        "  [4,2,1]\n",
        "]\n",
        "Output: 7\n",
        "Explanation: Because the path 1→3→1→1→1 minimizes the sum.\n",
        "```"
      ]
    },
    {
      "cell_type": "markdown",
      "metadata": {
        "id": "qYd4nXeyXt9L",
        "colab_type": "text"
      },
      "source": [
        "# Solution"
      ]
    },
    {
      "cell_type": "code",
      "metadata": {
        "id": "0Jk7_XirZvkg",
        "colab_type": "code",
        "colab": {}
      },
      "source": [
        "grid = [[1,3,1],\n",
        "        [1,5,1],\n",
        "        [4,2,1]]\n",
        "\n",
        "grid2 = [[1,2,5],\n",
        "         [3,2,1]]"
      ],
      "execution_count": 0,
      "outputs": []
    },
    {
      "cell_type": "code",
      "metadata": {
        "id": "8d3Ryv4uV7b_",
        "colab_type": "code",
        "colab": {}
      },
      "source": [
        "def min_path_sum(grid: list) -> int:\n",
        "    for row in range(len(grid)):\n",
        "        for col in range(len(grid[0])):\n",
        "            if row == col == 0:\n",
        "                continue\n",
        "            elif row == 0:\n",
        "                grid[row][col] = grid[row][col] + grid[row][col-1]\n",
        "            elif col == 0:\n",
        "                grid[row][col] = grid[row][col] + grid[row-1][col]\n",
        "            else:\n",
        "                grid[row][col] = (grid[row][col]\n",
        "                                  + min(grid[row][col-1], grid[row-1][col]))\n",
        "\n",
        "    return grid[row][col]"
      ],
      "execution_count": 0,
      "outputs": []
    },
    {
      "cell_type": "code",
      "metadata": {
        "id": "Fl4ZYvrjaW_K",
        "colab_type": "code",
        "colab": {
          "base_uri": "https://localhost:8080/",
          "height": 35
        },
        "outputId": "9bef9f6f-f0fd-4322-f17a-252f9a6da686"
      },
      "source": [
        "min_path_sum(grid2)"
      ],
      "execution_count": 49,
      "outputs": [
        {
          "output_type": "execute_result",
          "data": {
            "text/plain": [
              "6"
            ]
          },
          "metadata": {
            "tags": []
          },
          "execution_count": 49
        }
      ]
    },
    {
      "cell_type": "code",
      "metadata": {
        "id": "OXmbSkzzcbzq",
        "colab_type": "code",
        "colab": {}
      },
      "source": [
        ""
      ],
      "execution_count": 0,
      "outputs": []
    }
  ]
}