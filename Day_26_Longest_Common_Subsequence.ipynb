{
  "nbformat": 4,
  "nbformat_minor": 0,
  "metadata": {
    "colab": {
      "name": "Day 26 - Longest Common Subsequence.ipynb",
      "provenance": [],
      "authorship_tag": "ABX9TyMa7IPS8PnCbzDlyAYMjOpZ",
      "include_colab_link": true
    },
    "kernelspec": {
      "name": "python3",
      "display_name": "Python 3"
    }
  },
  "cells": [
    {
      "cell_type": "markdown",
      "metadata": {
        "id": "view-in-github",
        "colab_type": "text"
      },
      "source": [
        "<a href=\"https://colab.research.google.com/github/bundickm/LeetCode-30-Day-Challenge/blob/master/Day_26_Longest_Common_Subsequence.ipynb\" target=\"_parent\"><img src=\"https://colab.research.google.com/assets/colab-badge.svg\" alt=\"Open In Colab\"/></a>"
      ]
    },
    {
      "cell_type": "markdown",
      "metadata": {
        "id": "bi571QoMfbzz",
        "colab_type": "text"
      },
      "source": [
        "# Problem\n",
        "\n",
        "Given two strings text1 and text2, return the length of their longest common subsequence.\n",
        "\n",
        "A *subsequence* of a string is a new string generated from the original string with some characters(can be none) deleted without changing the relative order of the remaining characters. (eg, \"ace\" is a subsequence of \"abcde\" while \"aec\" is not). A common subsequence of two strings is a subsequence that is common to both strings.\n",
        "\n",
        "If there is no common subsequence, return 0.\n",
        "\n",
        "Example 1:\n",
        "```\n",
        "Input: text1 = \"abcde\", text2 = \"ace\" \n",
        "Output: 3  \n",
        "Explanation: The longest common subsequence is \"ace\" and its length is 3.\n",
        "```\n",
        "Example 2:\n",
        "```\n",
        "Input: text1 = \"abc\", text2 = \"abc\"\n",
        "Output: 3\n",
        "Explanation: The longest common subsequence is \"abc\" and its length is 3.\n",
        "```\n",
        "Example 3:\n",
        "```\n",
        "Input: text1 = \"abc\", text2 = \"def\"\n",
        "Output: 0\n",
        "Explanation: There is no such common subsequence, so the result is 0.\n",
        "```\n",
        "\n",
        "Constraints:\n",
        "- 1 <= text1.length <= 1000\n",
        "- 1 <= text2.length <= 1000\n",
        "- The input strings consist of lowercase English characters only."
      ]
    },
    {
      "cell_type": "markdown",
      "metadata": {
        "id": "de84hWV7fuTV",
        "colab_type": "text"
      },
      "source": [
        "# Solution"
      ]
    },
    {
      "cell_type": "code",
      "metadata": {
        "id": "IxWKN3R1fXo2",
        "colab_type": "code",
        "colab": {}
      },
      "source": [
        "def longest_common_subsequence(text1: str, text2: str) -> int:\n",
        "    dp = [[0 for i in range(len(text2) + 1)] for j in range(len(text1) + 1)]\n",
        "        \n",
        "    text1 = \" \" + text1\n",
        "    text2 = \" \" + text2\n",
        "        \n",
        "    for i in range(1, len(text1)):\n",
        "        for j in range(1, len(text2)):\n",
        "            if text1[i] == text2[j]:\n",
        "                dp[i][j] = 1 + dp[i-1][j-1]\n",
        "            else:\n",
        "                dp[i][j] = max(dp[i-1][j], dp[i][j-1])\n",
        "            \n",
        "    return dp[-1][-1]"
      ],
      "execution_count": 0,
      "outputs": []
    }
  ]
}