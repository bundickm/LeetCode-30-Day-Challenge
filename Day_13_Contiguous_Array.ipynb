{
  "nbformat": 4,
  "nbformat_minor": 0,
  "metadata": {
    "colab": {
      "name": "Day 13 - Contiguous Array.ipynb",
      "provenance": [],
      "authorship_tag": "ABX9TyPg8ecCHrz467tWVsDEgEOs",
      "include_colab_link": true
    },
    "kernelspec": {
      "name": "python3",
      "display_name": "Python 3"
    }
  },
  "cells": [
    {
      "cell_type": "markdown",
      "metadata": {
        "id": "view-in-github",
        "colab_type": "text"
      },
      "source": [
        "<a href=\"https://colab.research.google.com/github/bundickm/LeetCode-30-Day-Challenge/blob/master/Day_13_Contiguous_Array.ipynb\" target=\"_parent\"><img src=\"https://colab.research.google.com/assets/colab-badge.svg\" alt=\"Open In Colab\"/></a>"
      ]
    },
    {
      "cell_type": "markdown",
      "metadata": {
        "id": "N-YGIZ77RUxr",
        "colab_type": "text"
      },
      "source": [
        "# Problem\n",
        "\n",
        "Given a binary array, find the maximum length of a contiguous subarray with equal number of 0 and 1.\n",
        "\n",
        "Example 1:\n",
        "```\n",
        "Input: [0,1]\n",
        "Output: 2\n",
        "Explanation: [0, 1] is the longest contiguous subarray with equal number of 0 and 1.\n",
        "```\n",
        "Example 2:\n",
        "```\n",
        "Input: [0,1,0]\n",
        "Output: 2\n",
        "Explanation: [0, 1] (or [1, 0]) is a longest contiguous subarray with equal number of 0 and 1.\n",
        "```\n",
        "Note: The length of the given binary array will not exceed 50,000. "
      ]
    },
    {
      "cell_type": "markdown",
      "metadata": {
        "id": "95xRD43TRebT",
        "colab_type": "text"
      },
      "source": [
        "# Solution"
      ]
    },
    {
      "cell_type": "code",
      "metadata": {
        "id": "R401VPg5So5f",
        "colab_type": "code",
        "colab": {
          "base_uri": "https://localhost:8080/",
          "height": 72
        },
        "outputId": "666a46d7-4257-4749-eae1-c378eee7417f"
      },
      "source": [
        "import numpy as np\n",
        "\n",
        "def findMaxLength(nums):\n",
        "        sums = np.cumsum([-1 if num == 0 else 1 for num in nums])\n",
        "        sum_dict = {}\n",
        "        max_length = 0\n",
        "        \n",
        "        for i in range(len(sums)):\n",
        "            value = sums[i]\n",
        "            sum_dict.setdefault(value, [])\n",
        "            sum_dict[value].append(i)\n",
        "\n",
        "            if sums[i] == 0:\n",
        "                max_length = i + 1\n",
        "        \n",
        "        for key in sum_dict:\n",
        "            indexes = sum_dict[key]\n",
        "            if len(indexes) >= 2:\n",
        "                max_length = max((max(indexes) - min(indexes)), max_length)\n",
        "                \n",
        "        return max_length\n",
        "\n",
        "findMaxLength([0,1,0,1])"
      ],
      "execution_count": 53,
      "outputs": [
        {
          "output_type": "stream",
          "text": [
            "sums: [-1  0 -1  0]\n",
            "sum_dict: {-1: [0, 2], 0: [1, 3]}\n"
          ],
          "name": "stdout"
        },
        {
          "output_type": "execute_result",
          "data": {
            "text/plain": [
              "4"
            ]
          },
          "metadata": {
            "tags": []
          },
          "execution_count": 53
        }
      ]
    }
  ]
}