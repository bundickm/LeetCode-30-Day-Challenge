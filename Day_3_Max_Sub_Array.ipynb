{
  "nbformat": 4,
  "nbformat_minor": 0,
  "metadata": {
    "colab": {
      "name": "Day 3 - Max Sub Array.ipynb",
      "provenance": [],
      "collapsed_sections": [],
      "authorship_tag": "ABX9TyO4qh5HUJR9qdQiHJjp0tp8",
      "include_colab_link": true
    },
    "kernelspec": {
      "name": "python3",
      "display_name": "Python 3"
    }
  },
  "cells": [
    {
      "cell_type": "markdown",
      "metadata": {
        "id": "view-in-github",
        "colab_type": "text"
      },
      "source": [
        "<a href=\"https://colab.research.google.com/github/bundickm/LeetCode-30-Day-Challenge/blob/master/Day_3_Max_Sub_Array.ipynb\" target=\"_parent\"><img src=\"https://colab.research.google.com/assets/colab-badge.svg\" alt=\"Open In Colab\"/></a>"
      ]
    },
    {
      "cell_type": "markdown",
      "metadata": {
        "id": "S9XFh3oCJ10A",
        "colab_type": "text"
      },
      "source": [
        "# Problem\n",
        "Given an integer array nums, find the contiguous subarray (containing at least one number) which has the largest sum and return its sum.\n",
        "\n",
        "Example:\n",
        "```\n",
        "Input: [-2,1,-3,4,-1,2,1,-5,4],\n",
        "Output: 6\n",
        "Explanation: [4,-1,2,1] has the largest sum = 6.\n",
        "```\n",
        "Follow up:\n",
        "\n",
        "If you have figured out the O(n) solution, try coding another solution using the divide and conquer approach, which is more subtle.\n"
      ]
    },
    {
      "cell_type": "code",
      "metadata": {
        "id": "otcBBHBDMmzN",
        "colab_type": "code",
        "outputId": "ee4f56f8-0d7a-4e30-ab6a-aaa88ef3357b",
        "colab": {
          "base_uri": "https://localhost:8080/",
          "height": 35
        }
      },
      "source": [
        "nums = [-2,1,-3,4,-1,2,1,-5,4]\n",
        "\n",
        "def max_sub_array(nums: list) -> int:\n",
        "    current = nums[0]\n",
        "    best = current\n",
        "\n",
        "    for num in nums[1:]:\n",
        "        current = max(num, current + num)\n",
        "        best = max(best, current)\n",
        "\n",
        "    return best\n",
        "max_sub_array(nums)"
      ],
      "execution_count": 0,
      "outputs": [
        {
          "output_type": "execute_result",
          "data": {
            "text/plain": [
              "6"
            ]
          },
          "metadata": {
            "tags": []
          },
          "execution_count": 35
        }
      ]
    }
  ]
}