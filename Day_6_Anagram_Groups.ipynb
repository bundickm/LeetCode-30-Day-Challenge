{
  "nbformat": 4,
  "nbformat_minor": 0,
  "metadata": {
    "colab": {
      "name": "Day 6 - Anagram Groups.ipynb",
      "provenance": [],
      "collapsed_sections": [],
      "authorship_tag": "ABX9TyPQeCv9BzbfeYFFwkLskjv3",
      "include_colab_link": true
    },
    "kernelspec": {
      "name": "python3",
      "display_name": "Python 3"
    }
  },
  "cells": [
    {
      "cell_type": "markdown",
      "metadata": {
        "id": "view-in-github",
        "colab_type": "text"
      },
      "source": [
        "<a href=\"https://colab.research.google.com/github/bundickm/LeetCode-30-Day-Challenge/blob/master/Day_6_Anagram_Groups.ipynb\" target=\"_parent\"><img src=\"https://colab.research.google.com/assets/colab-badge.svg\" alt=\"Open In Colab\"/></a>"
      ]
    },
    {
      "cell_type": "markdown",
      "metadata": {
        "id": "uGSyOA7QG-ya",
        "colab_type": "text"
      },
      "source": [
        "# Problem\n",
        "\n",
        "Given an array of strings, group anagrams together.\n",
        "\n",
        "Example:\n",
        "```\n",
        "Input: [\"eat\", \"tea\", \"tan\", \"ate\", \"nat\", \"bat\"]\n",
        "Output:\n",
        "[\n",
        "  [\"ate\",\"eat\",\"tea\"],\n",
        "  [\"nat\",\"tan\"],\n",
        "  [\"bat\"]\n",
        "]\n",
        "```\n",
        "Note: All inputs will be in lowercase. The order of your output does not matter."
      ]
    },
    {
      "cell_type": "code",
      "metadata": {
        "id": "Moa7pWE0HLHO",
        "colab_type": "code",
        "colab": {
          "base_uri": "https://localhost:8080/",
          "height": 35
        },
        "outputId": "7ba081f5-9dc5-480b-f840-2f0a144998aa"
      },
      "source": [
        "words = [\"eat\", \"tea\", \"tan\", \"ate\", \"nat\", \"bat\"]\n",
        "\n",
        "def group_anagrams(words: list) -> list:\n",
        "    anagram_groups = {}\n",
        "\n",
        "    for word in words:\n",
        "        sorted_word = ''.join(sorted(word))\n",
        "        if sorted_word not in anagram_groups:\n",
        "            anagram_groups[sorted_word] = [word]\n",
        "        else:\n",
        "            anagram_groups[sorted_word].append(word)\n",
        "\n",
        "    return list(anagram_groups.values())\n",
        "\n",
        "group_anagrams(words)"
      ],
      "execution_count": 13,
      "outputs": [
        {
          "output_type": "execute_result",
          "data": {
            "text/plain": [
              "[['eat', 'tea', 'ate'], ['tan', 'nat'], ['bat']]"
            ]
          },
          "metadata": {
            "tags": []
          },
          "execution_count": 13
        }
      ]
    }
  ]
}