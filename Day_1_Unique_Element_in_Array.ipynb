{
  "nbformat": 4,
  "nbformat_minor": 0,
  "metadata": {
    "colab": {
      "name": "Day 1 - Unique Element in Array.ipynb",
      "provenance": [],
      "authorship_tag": "ABX9TyOZpPEyW9ayx4uphR4UrYPN",
      "include_colab_link": true
    },
    "kernelspec": {
      "name": "python3",
      "display_name": "Python 3"
    }
  },
  "cells": [
    {
      "cell_type": "markdown",
      "metadata": {
        "id": "view-in-github",
        "colab_type": "text"
      },
      "source": [
        "<a href=\"https://colab.research.google.com/github/bundickm/LeetCode-30-Day-Challenge/blob/master/Day_1_Unique_Element_in_Array.ipynb\" target=\"_parent\"><img src=\"https://colab.research.google.com/assets/colab-badge.svg\" alt=\"Open In Colab\"/></a>"
      ]
    },
    {
      "cell_type": "markdown",
      "metadata": {
        "id": "41QMvA26h8mN",
        "colab_type": "text"
      },
      "source": [
        "# Problem\n",
        "\n",
        "Given a non-empty array of integers, every element appears twice except for one. Find that single one.\n",
        "\n",
        "Note:\n",
        "\n",
        "Your algorithm should have a linear runtime complexity. Could you implement it without using extra memory?\n",
        "\n",
        "Example 1:\n",
        "```\n",
        "Input: [2,2,1]\n",
        "Output: 1\n",
        "```\n",
        "Example 2:\n",
        "```\n",
        "Input: [4,1,2,1,2]\n",
        "Output: 4\n",
        "```\n"
      ]
    },
    {
      "cell_type": "markdown",
      "metadata": {
        "id": "zB5CkMQqiNLj",
        "colab_type": "text"
      },
      "source": [
        "# Solution"
      ]
    },
    {
      "cell_type": "code",
      "metadata": {
        "id": "jBHCBsbDiGdU",
        "colab_type": "code",
        "outputId": "9e263b07-291a-4f9a-ca39-7ae13b2a2a89",
        "colab": {
          "base_uri": "https://localhost:8080/",
          "height": 35
        }
      },
      "source": [
        "def single_number(nums: list) -> int:\n",
        "  single = set()\n",
        "\n",
        "  for num in nums:\n",
        "    if num in single:\n",
        "      single.remove(num)\n",
        "    else:\n",
        "      single.add(num)\n",
        "  return single.pop()\n",
        "\n",
        "single_number([4,1,2,1,2])"
      ],
      "execution_count": 0,
      "outputs": [
        {
          "output_type": "execute_result",
          "data": {
            "text/plain": [
              "4"
            ]
          },
          "metadata": {
            "tags": []
          },
          "execution_count": 7
        }
      ]
    },
    {
      "cell_type": "code",
      "metadata": {
        "id": "E6d6N_M_icV6",
        "colab_type": "code",
        "colab": {}
      },
      "source": [
        ""
      ],
      "execution_count": 0,
      "outputs": []
    }
  ]
}