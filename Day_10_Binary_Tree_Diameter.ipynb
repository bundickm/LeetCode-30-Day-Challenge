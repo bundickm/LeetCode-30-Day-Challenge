{
  "nbformat": 4,
  "nbformat_minor": 0,
  "metadata": {
    "colab": {
      "name": "Day 10 - Binary Tree Diameter.ipynb",
      "provenance": [],
      "collapsed_sections": [],
      "authorship_tag": "ABX9TyNZD7cereC0qL6XnidmVEyj",
      "include_colab_link": true
    },
    "kernelspec": {
      "name": "python3",
      "display_name": "Python 3"
    }
  },
  "cells": [
    {
      "cell_type": "markdown",
      "metadata": {
        "id": "view-in-github",
        "colab_type": "text"
      },
      "source": [
        "<a href=\"https://colab.research.google.com/github/bundickm/LeetCode-30-Day-Challenge/blob/master/Day_10_Binary_Tree_Diameter.ipynb\" target=\"_parent\"><img src=\"https://colab.research.google.com/assets/colab-badge.svg\" alt=\"Open In Colab\"/></a>"
      ]
    },
    {
      "cell_type": "markdown",
      "metadata": {
        "id": "TaSCN4Qmeoby",
        "colab_type": "text"
      },
      "source": [
        "# Problem\n",
        "\n",
        "Given a binary tree, you need to compute the length of the diameter of the tree. The diameter of a binary tree is the length of the longest path between any two nodes in a tree. This path may or may not pass through the root.\n",
        "\n",
        "Example:\n",
        "Given a binary tree\n",
        "\n",
        "          1\n",
        "         / \\\n",
        "        2   3\n",
        "       / \\     \n",
        "      4   5    \n",
        "\n",
        "Return 3, which is the length of the path [4,2,1,3] or [5,2,1,3].\n",
        "\n",
        "Note: The length of path between two nodes is represented by the number of edges between them. "
      ]
    },
    {
      "cell_type": "markdown",
      "metadata": {
        "id": "qeOEHlnhewD8",
        "colab_type": "text"
      },
      "source": [
        "# Solution"
      ]
    },
    {
      "cell_type": "code",
      "metadata": {
        "id": "AJ1F-rtDe2dW",
        "colab_type": "code",
        "colab": {}
      },
      "source": [
        "# Definition for a binary tree node.\n",
        "class TreeNode:\n",
        "    def __init__(self, x):\n",
        "        self.val = x\n",
        "        self.left = None\n",
        "        self.right = None"
      ],
      "execution_count": 0,
      "outputs": []
    },
    {
      "cell_type": "code",
      "metadata": {
        "id": "NIO4_u1CdKdN",
        "colab_type": "code",
        "colab": {}
      },
      "source": [
        "class Solution:\n",
        "    def __init__(self):\n",
        "        self.diameter = 0\n",
        "\n",
        "    def get_depth(self, root: TreeNode) -> int:\n",
        "        if root == None:\n",
        "            return 0\n",
        "        else:\n",
        "            left = self.get_depth(root.left)\n",
        "            right = self.get_depth(root.right)\n",
        "            \n",
        "            if ((left + right) > self.diameter):\n",
        "                self.diameter = left + right\n",
        "            \n",
        "            return 1 + max(left, right)\n",
        "\n",
        "    def diameterOfBinaryTree(self, root: TreeNode) -> int:\n",
        "        self.get_depth(root)\n",
        "        return self.diameter"
      ],
      "execution_count": 0,
      "outputs": []
    },
    {
      "cell_type": "code",
      "metadata": {
        "id": "GmaXpp2leurT",
        "colab_type": "code",
        "colab": {}
      },
      "source": [
        ""
      ],
      "execution_count": 0,
      "outputs": []
    }
  ]
}