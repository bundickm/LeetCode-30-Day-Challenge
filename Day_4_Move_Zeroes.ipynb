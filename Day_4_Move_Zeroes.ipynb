{
  "nbformat": 4,
  "nbformat_minor": 0,
  "metadata": {
    "colab": {
      "name": "Day 4 - Move Zeroes.ipynb",
      "provenance": [],
      "authorship_tag": "ABX9TyOBHXH/42z/qb/IXJMqPJ3r",
      "include_colab_link": true
    },
    "kernelspec": {
      "name": "python3",
      "display_name": "Python 3"
    }
  },
  "cells": [
    {
      "cell_type": "markdown",
      "metadata": {
        "id": "view-in-github",
        "colab_type": "text"
      },
      "source": [
        "<a href=\"https://colab.research.google.com/github/bundickm/LeetCode-30-Day-Challenge/blob/master/Day_4_Move_Zeroes.ipynb\" target=\"_parent\"><img src=\"https://colab.research.google.com/assets/colab-badge.svg\" alt=\"Open In Colab\"/></a>"
      ]
    },
    {
      "cell_type": "markdown",
      "metadata": {
        "id": "eXjRneIeTYX0",
        "colab_type": "text"
      },
      "source": [
        "# Problem\n",
        "\n",
        "Given an array nums, write a function to move all 0's to the end of it while maintaining the relative order of the non-zero elements.\n",
        "\n",
        "Example:\n",
        "```\n",
        "Input: [0,1,0,3,12]\n",
        "Output: [1,3,12,0,0]\n",
        "```\n",
        "Note:\n",
        "You must do this in-place without making a copy of the array. Minimize the total number of operations.\n"
      ]
    },
    {
      "cell_type": "code",
      "metadata": {
        "id": "pRMI5xRuZOX9",
        "colab_type": "code",
        "colab": {}
      },
      "source": [
        "from random import choices"
      ],
      "execution_count": 0,
      "outputs": []
    },
    {
      "cell_type": "code",
      "metadata": {
        "id": "mtaeOENFTTKU",
        "colab_type": "code",
        "colab": {
          "base_uri": "https://localhost:8080/",
          "height": 53
        },
        "outputId": "8f9caff9-2185-4b98-d6c6-c0b55023a2a2"
      },
      "source": [
        "def move_zeroes(nums: list) -> None:\n",
        "    for i in range(0, len(nums) - 1):\n",
        "        if nums[i] == 0: \n",
        "            swap = i + 1\n",
        "            while nums[swap] == 0 and swap < (len(nums) - 1):\n",
        "                swap += 1\n",
        "            nums[i], nums[swap] = nums[swap], 0\n",
        "\n",
        "nums = choices([0,1,2,3], k=100)\n",
        "nums2 = nums.copy()\n",
        "nums3 = nums.copy()\n",
        "%time move_zeroes(nums)"
      ],
      "execution_count": 64,
      "outputs": [
        {
          "output_type": "stream",
          "text": [
            "CPU times: user 219 µs, sys: 0 ns, total: 219 µs\n",
            "Wall time: 226 µs\n"
          ],
          "name": "stdout"
        }
      ]
    },
    {
      "cell_type": "code",
      "metadata": {
        "id": "mGlEhwoUa1Ng",
        "colab_type": "code",
        "colab": {
          "base_uri": "https://localhost:8080/",
          "height": 53
        },
        "outputId": "b04b032e-919c-4a40-a069-b94e83807732"
      },
      "source": [
        "def move_zeroes(nums: list) -> None:\n",
        "    for i in nums:\n",
        "        if i == 0:\n",
        "            nums += [nums.pop(nums.index(i))]\n",
        "\n",
        "%time move_zeroes(nums2)"
      ],
      "execution_count": 65,
      "outputs": [
        {
          "output_type": "stream",
          "text": [
            "CPU times: user 57 µs, sys: 4 µs, total: 61 µs\n",
            "Wall time: 64.8 µs\n"
          ],
          "name": "stdout"
        }
      ]
    },
    {
      "cell_type": "code",
      "metadata": {
        "id": "5qLyZij-aiTQ",
        "colab_type": "code",
        "colab": {
          "base_uri": "https://localhost:8080/",
          "height": 53
        },
        "outputId": "6aec71ec-deb5-4c29-b447-eb09463e4456"
      },
      "source": [
        "def move_zeroes(nums: list) -> None:\n",
        "    slow = 0\n",
        "    fast = 0\n",
        "\n",
        "    while fast < len(nums):\n",
        "        if nums[slow] == 0 and nums[fast] != 0:\n",
        "            nums[slow], nums[fast] = nums[fast], nums[slow]\n",
        "        if nums[slow] != 0:\n",
        "            slow += 1\n",
        "        fast += 1\n",
        "\n",
        "%time move_zeroes(nums3)"
      ],
      "execution_count": 66,
      "outputs": [
        {
          "output_type": "stream",
          "text": [
            "CPU times: user 49 µs, sys: 3 µs, total: 52 µs\n",
            "Wall time: 56 µs\n"
          ],
          "name": "stdout"
        }
      ]
    },
    {
      "cell_type": "code",
      "metadata": {
        "id": "81hHWU2ZcaP0",
        "colab_type": "code",
        "colab": {}
      },
      "source": [
        ""
      ],
      "execution_count": 0,
      "outputs": []
    }
  ]
}