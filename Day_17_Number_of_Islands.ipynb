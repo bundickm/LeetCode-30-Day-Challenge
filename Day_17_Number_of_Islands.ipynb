{
  "nbformat": 4,
  "nbformat_minor": 0,
  "metadata": {
    "colab": {
      "name": "Day 17 - Number of Islands.ipynb",
      "provenance": [],
      "authorship_tag": "ABX9TyORs9qRtY6T9iL6hv3RJknH",
      "include_colab_link": true
    },
    "kernelspec": {
      "name": "python3",
      "display_name": "Python 3"
    }
  },
  "cells": [
    {
      "cell_type": "markdown",
      "metadata": {
        "id": "view-in-github",
        "colab_type": "text"
      },
      "source": [
        "<a href=\"https://colab.research.google.com/github/bundickm/LeetCode-30-Day-Challenge/blob/master/Day_17_Number_of_Islands.ipynb\" target=\"_parent\"><img src=\"https://colab.research.google.com/assets/colab-badge.svg\" alt=\"Open In Colab\"/></a>"
      ]
    },
    {
      "cell_type": "markdown",
      "metadata": {
        "id": "MnSq4kST9UGb",
        "colab_type": "text"
      },
      "source": [
        "# Problem\n",
        "\n",
        "Given a 2d grid map of '1's (land) and '0's (water), count the number of islands. An island is surrounded by water and is formed by connecting adjacent lands horizontally or vertically. You may assume all four edges of the grid are all surrounded by water.\n",
        "\n",
        "Example 1:\n",
        "```\n",
        "Input:\n",
        "11110\n",
        "11010\n",
        "11000\n",
        "00000\n",
        "\n",
        "Output: 1\n",
        "```\n",
        "Example 2:\n",
        "```\n",
        "Input:\n",
        "11000\n",
        "11000\n",
        "00100\n",
        "00011\n",
        "\n",
        "Output: 3\n",
        "```"
      ]
    },
    {
      "cell_type": "markdown",
      "metadata": {
        "id": "oCKyboDaDxxZ",
        "colab_type": "text"
      },
      "source": [
        "# Solution"
      ]
    },
    {
      "cell_type": "code",
      "metadata": {
        "id": "G1wJv1r89R8O",
        "colab_type": "code",
        "colab": {}
      },
      "source": [
        "def num_islands(grid: list) -> int:\n",
        "    island_count = 0\n",
        "    land = set()\n",
        "    \n",
        "    def find_islands(row, col):\n",
        "        if (row, col) in land:\n",
        "            land.remove((row, col))\n",
        "            find_islands(row, col + 1)\n",
        "            find_islands(row, col - 1)\n",
        "            find_islands(row + 1, col)\n",
        "            find_islands(row - 1, col)    \n",
        "\n",
        "    for row in range(len(grid)):\n",
        "        for column in range(len(grid[0])):\n",
        "            if grid[row][column] == \"1\":\n",
        "                land.add((row, column))        \n",
        "\n",
        "    while land:\n",
        "        piece = land.pop()\n",
        "        land.add(piece)\n",
        "        find_islands(piece[0], piece[1])\n",
        "        island_count += 1\n",
        "\n",
        "    return island_count"
      ],
      "execution_count": 0,
      "outputs": []
    },
    {
      "cell_type": "code",
      "metadata": {
        "id": "2jn3hgQs_sLN",
        "colab_type": "code",
        "colab": {
          "base_uri": "https://localhost:8080/",
          "height": 35
        },
        "outputId": "186883a8-bfd6-4029-b453-e617ed1f3f18"
      },
      "source": [
        "grid = ['11000',\n",
        "        '11000',\n",
        "        '00100',\n",
        "        '00011',]\n",
        "\n",
        "num_islands(grid)"
      ],
      "execution_count": 20,
      "outputs": [
        {
          "output_type": "execute_result",
          "data": {
            "text/plain": [
              "3"
            ]
          },
          "metadata": {
            "tags": []
          },
          "execution_count": 20
        }
      ]
    }
  ]
}