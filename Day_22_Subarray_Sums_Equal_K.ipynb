{
  "nbformat": 4,
  "nbformat_minor": 0,
  "metadata": {
    "colab": {
      "name": "Day 22 - Subarray Sums Equal K.ipynb",
      "provenance": [],
      "authorship_tag": "ABX9TyNOREplDOJs+f5do1ncnL4V",
      "include_colab_link": true
    },
    "kernelspec": {
      "name": "python3",
      "display_name": "Python 3"
    }
  },
  "cells": [
    {
      "cell_type": "markdown",
      "metadata": {
        "id": "view-in-github",
        "colab_type": "text"
      },
      "source": [
        "<a href=\"https://colab.research.google.com/github/bundickm/LeetCode-30-Day-Challenge/blob/master/Day_22_Subarray_Sums_Equal_K.ipynb\" target=\"_parent\"><img src=\"https://colab.research.google.com/assets/colab-badge.svg\" alt=\"Open In Colab\"/></a>"
      ]
    },
    {
      "cell_type": "markdown",
      "metadata": {
        "id": "yY977q8Po8Wx",
        "colab_type": "text"
      },
      "source": [
        "# Problem\n",
        "\n",
        "Given an array of integers and an integer k, you need to find the total number of continuous subarrays whose sum equals to k.\n",
        "\n",
        "Example 1:\n",
        "```\n",
        "Input:nums = [1,1,1], k = 2\n",
        "Output: 2\n",
        "```\n",
        "Note:\n",
        "- The length of the array is in range [1, 20,000].\n",
        "- The range of numbers in the array is [-1000, 1000] and the range of the integer k is [-1e7, 1e7].\n"
      ]
    },
    {
      "cell_type": "markdown",
      "metadata": {
        "id": "IrBj-Q2upG_e",
        "colab_type": "text"
      },
      "source": [
        "# Solution"
      ]
    },
    {
      "cell_type": "code",
      "metadata": {
        "id": "6YpAhqLPozBk",
        "colab_type": "code",
        "outputId": "4e8dbef6-cdd7-474c-b4b5-a60376baec83",
        "colab": {
          "base_uri": "https://localhost:8080/",
          "height": 35
        }
      },
      "source": [
        "def subarray_sum(nums: list, k: int) -> int:\n",
        "    sums = {}\n",
        "    current_sum = 0\n",
        "    subarray_count = 0\n",
        "\n",
        "    for num in nums:\n",
        "        current_sum += num\n",
        "        if current_sum == k:\n",
        "            subarray_count += 1\n",
        "        if (current_sum - k) in sums:\n",
        "            subarray_count += sums[current_sum - k]\n",
        "        sums.setdefault(current_sum, 0)\n",
        "        sums[current_sum] += 1\n",
        "    \n",
        "    return subarray_count\n",
        "\n",
        "subarray_sum([1,1,1], 1)"
      ],
      "execution_count": 0,
      "outputs": [
        {
          "output_type": "execute_result",
          "data": {
            "text/plain": [
              "3"
            ]
          },
          "metadata": {
            "tags": []
          },
          "execution_count": 5
        }
      ]
    },
    {
      "cell_type": "code",
      "metadata": {
        "id": "R291oh3adaKR",
        "colab_type": "code",
        "colab": {}
      },
      "source": [
        ""
      ],
      "execution_count": 0,
      "outputs": []
    }
  ]
}