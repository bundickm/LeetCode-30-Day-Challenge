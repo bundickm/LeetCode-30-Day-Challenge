{
  "nbformat": 4,
  "nbformat_minor": 0,
  "metadata": {
    "colab": {
      "name": "Day 15 - Product of Array Except Self.ipynb",
      "provenance": [],
      "collapsed_sections": [],
      "authorship_tag": "ABX9TyOj9AQXt7JaRrxtnlammz0/",
      "include_colab_link": true
    },
    "kernelspec": {
      "name": "python3",
      "display_name": "Python 3"
    }
  },
  "cells": [
    {
      "cell_type": "markdown",
      "metadata": {
        "id": "view-in-github",
        "colab_type": "text"
      },
      "source": [
        "<a href=\"https://colab.research.google.com/github/bundickm/LeetCode-30-Day-Challenge/blob/master/Day_15_Product_of_Array_Except_Self.ipynb\" target=\"_parent\"><img src=\"https://colab.research.google.com/assets/colab-badge.svg\" alt=\"Open In Colab\"/></a>"
      ]
    },
    {
      "cell_type": "markdown",
      "metadata": {
        "id": "qFetDvHXpoLc",
        "colab_type": "text"
      },
      "source": [
        "# Problem\n",
        "\n",
        "Given an array nums of n integers where n > 1,  return an array output such that output[i] is equal to the product of all the elements of nums except nums[i].\n",
        "\n",
        "Example:\n",
        "```\n",
        "Input:  [1,2,3,4]\n",
        "Output: [24,12,8,6]\n",
        "```\n",
        "Constraint: It's guaranteed that the product of the elements of any prefix or suffix of the array (including the whole array) fits in a 32 bit integer.\n",
        "\n",
        "Note: Please solve it without division and in O(n).\n",
        "\n",
        "Follow up: Could you solve it with constant space complexity? (The output array does not count as extra space for the purpose of space complexity analysis.)\n"
      ]
    },
    {
      "cell_type": "markdown",
      "metadata": {
        "id": "2xSg5mbvpvS0",
        "colab_type": "text"
      },
      "source": [
        "# Solution"
      ]
    },
    {
      "cell_type": "code",
      "metadata": {
        "id": "zZMYnNDh0RVq",
        "colab_type": "code",
        "colab": {}
      },
      "source": [
        "def product_except_self(nums):\n",
        "    answer = [1] * len(nums)\n",
        "    left = 1\n",
        "    right = 1\n",
        "\n",
        "    for i in range(len(nums)):\n",
        "        answer[i] *= left\n",
        "        left *= nums[i]\n",
        "\n",
        "        answer[~i] *= right\n",
        "        right *= nums[~i]\n",
        "    return answer"
      ],
      "execution_count": 0,
      "outputs": []
    },
    {
      "cell_type": "code",
      "metadata": {
        "id": "MOBcNmaN1MlH",
        "colab_type": "code",
        "colab": {}
      },
      "source": [
        "product_except_self([1,2,3,4])"
      ],
      "execution_count": 0,
      "outputs": []
    }
  ]
}