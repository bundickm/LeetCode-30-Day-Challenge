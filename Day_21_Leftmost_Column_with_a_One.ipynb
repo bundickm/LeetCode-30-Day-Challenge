{
  "nbformat": 4,
  "nbformat_minor": 0,
  "metadata": {
    "colab": {
      "name": "Day 21 - Leftmost Column with a One.ipynb",
      "provenance": [],
      "authorship_tag": "ABX9TyMYpmddT0BN7GGpMXV+HPzN",
      "include_colab_link": true
    },
    "kernelspec": {
      "name": "python3",
      "display_name": "Python 3"
    }
  },
  "cells": [
    {
      "cell_type": "markdown",
      "metadata": {
        "id": "view-in-github",
        "colab_type": "text"
      },
      "source": [
        "<a href=\"https://colab.research.google.com/github/bundickm/LeetCode-30-Day-Challenge/blob/master/Day_21_Leftmost_Column_with_a_One.ipynb\" target=\"_parent\"><img src=\"https://colab.research.google.com/assets/colab-badge.svg\" alt=\"Open In Colab\"/></a>"
      ]
    },
    {
      "cell_type": "markdown",
      "metadata": {
        "id": "SZom2XC-a-VV",
        "colab_type": "text"
      },
      "source": [
        "# Problem\n",
        "\n",
        "(This problem is an interactive problem.)\n",
        "\n",
        "A binary matrix means that all elements are 0 or 1. For each individual row of the matrix, this row is sorted in non-decreasing order.\n",
        "\n",
        "Given a row-sorted binary matrix binaryMatrix, return leftmost column index(0-indexed) with at least a 1 in it. If such index doesn't exist, return -1.\n",
        "\n",
        "You can't access the Binary Matrix directly.  You may only access the matrix using a BinaryMatrix interface:\n",
        "\n",
        "- BinaryMatrix.get(x, y) returns the element of the matrix at index (x, y) (0-indexed).\n",
        "- BinaryMatrix.dimensions() returns a list of 2 elements [n, m], which means the matrix is n * m.\n",
        "\n",
        "Submissions making more than 1000 calls to BinaryMatrix.get will be judged Wrong Answer.  Also, any solutions that attempt to circumvent the judge will result in disqualification.\n",
        "\n",
        "For custom testing purposes you're given the binary matrix mat as input in the following four examples. You will not have access the binary matrix directly.\n",
        "\n",
        " \n",
        "\n",
        "Example 1:\n",
        "\n",
        "![](https://assets.leetcode.com/uploads/2019/10/25/untitled-diagram-5.jpg)\n",
        "```\n",
        "Input: mat = [[0,0],[1,1]]\n",
        "Output: 0\n",
        "```\n",
        "Example 2:\n",
        "\n",
        "![](https://assets.leetcode.com/uploads/2019/10/25/untitled-diagram-4.jpg)\n",
        "```\n",
        "Input: mat = [[0,0],[0,1]]\n",
        "Output: 1\n",
        "```\n",
        "Example 3:\n",
        "\n",
        "![](https://assets.leetcode.com/uploads/2019/10/25/untitled-diagram-3.jpg)\n",
        "```\n",
        "Input: mat = [[0,0],[0,0]]\n",
        "Output: -1\n",
        "```\n",
        "Example 4:\n",
        "\n",
        "![](https://assets.leetcode.com/uploads/2019/10/25/untitled-diagram-6.jpg)\n",
        "```\n",
        "Input: mat = [[0,0,0,1],[0,0,1,1],[0,1,1,1]]\n",
        "Output: 1\n",
        "```\n",
        " \n",
        "\n",
        "Constraints:\n",
        "\n",
        "- 1 <= mat.length, mat[i].length <= 100\n",
        "- mat[i][j] is either 0 or 1.\n",
        "- mat[i] is sorted in a non-decreasing way.\n"
      ]
    },
    {
      "cell_type": "code",
      "metadata": {
        "id": "ouAb9E6janDj",
        "colab_type": "code",
        "colab": {}
      },
      "source": [
        "def left_most_column_with_one(binaryMatrix):\n",
        "    row_length, col_length = binaryMatrix.dimensions()\n",
        "    left_most = -1\n",
        "\n",
        "    for row in range(row_length):\n",
        "        if left_most == -1:\n",
        "            col_start = col_length - 1\n",
        "        else:\n",
        "            col_start = left_most - 1\n",
        "        for col in range(col_start, -1, -1):\n",
        "            if binaryMatrix.get(row, col):\n",
        "                if (left_most == -1) or (left_most > col):\n",
        "                    left_most = col\n",
        "            else:\n",
        "                break\n",
        "        if left_most == 0:\n",
        "            return left_most\n",
        "\n",
        "    return left_most"
      ],
      "execution_count": 0,
      "outputs": []
    }
  ]
}