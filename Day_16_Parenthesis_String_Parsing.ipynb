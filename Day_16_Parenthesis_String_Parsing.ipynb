{
  "nbformat": 4,
  "nbformat_minor": 0,
  "metadata": {
    "colab": {
      "name": "Day 16 - Parenthesis String Parsing.ipynb",
      "provenance": [],
      "collapsed_sections": [],
      "authorship_tag": "ABX9TyOsrU0M1Qg5z9fkz0+y3pop",
      "include_colab_link": true
    },
    "kernelspec": {
      "name": "python3",
      "display_name": "Python 3"
    }
  },
  "cells": [
    {
      "cell_type": "markdown",
      "metadata": {
        "id": "view-in-github",
        "colab_type": "text"
      },
      "source": [
        "<a href=\"https://colab.research.google.com/github/bundickm/LeetCode-30-Day-Challenge/blob/master/Day_16_Parenthesis_String_Parsing.ipynb\" target=\"_parent\"><img src=\"https://colab.research.google.com/assets/colab-badge.svg\" alt=\"Open In Colab\"/></a>"
      ]
    },
    {
      "cell_type": "markdown",
      "metadata": {
        "id": "ZGr6AWyFzaSu",
        "colab_type": "text"
      },
      "source": [
        "# Problem\n",
        "\n",
        " Given a string containing only three types of characters: '(', ')' and '*', write a function to check whether this string is valid. We define the validity of a string by these rules:\n",
        "\n",
        "1. Any left parenthesis '(' must have a corresponding right parenthesis ')'.\n",
        "2. Any right parenthesis ')' must have a corresponding left parenthesis '('.\n",
        "3. Left parenthesis '(' must go before the corresponding right parenthesis ')'.\n",
        "4. '*' could be treated as a single right parenthesis ')' or a single left parenthesis '(' or an empty string.\n",
        "5. An empty string is also valid.\n",
        "\n",
        "Example 1:\n",
        "```\n",
        "Input: \"()\"\n",
        "Output: True\n",
        "```\n",
        "Example 2:\n",
        "```\n",
        "Input: \"(*)\"\n",
        "Output: True\n",
        "```\n",
        "Example 3:\n",
        "```\n",
        "Input: \"(*))\"\n",
        "Output: True\n",
        "```\n",
        "Note: The string size will be in the range [1, 100].\n"
      ]
    },
    {
      "cell_type": "markdown",
      "metadata": {
        "id": "GrtKcLqTzoQQ",
        "colab_type": "text"
      },
      "source": [
        "# Solution"
      ]
    },
    {
      "cell_type": "code",
      "metadata": {
        "id": "ag_swBZa2AdX",
        "colab_type": "code",
        "colab": {}
      },
      "source": [
        "test_cases = [('', True),\n",
        "              ('(', False),\n",
        "              (')', False),\n",
        "              ('()', True),\n",
        "              ('*)', True),\n",
        "              ('(*', True),\n",
        "              ('(*)', True),\n",
        "              ('(((******))', True),\n",
        "              ('(())((())()()(*)(*()(())())())()()((()())((()))(*', False)]"
      ],
      "execution_count": 0,
      "outputs": []
    },
    {
      "cell_type": "code",
      "metadata": {
        "id": "9dzWSEmYzTaF",
        "colab_type": "code",
        "colab": {
          "base_uri": "https://localhost:8080/",
          "height": 35
        },
        "outputId": "be12d65a-b7a3-43a2-c135-4ecc6c82f327"
      },
      "source": [
        "def check_valid_string(s: str) -> bool:\n",
        "    counts = {'(': [0, []], ')':[0, []], '*':[0, []]}\n",
        "\n",
        "    for i, char in enumerate(s):\n",
        "        counts[char][0] += 1\n",
        "        counts[char][1].append(i)\n",
        "\n",
        "        if (char == ')'):\n",
        "            if (counts['('][0] > 0):\n",
        "                counts['('][0] -= 1\n",
        "                counts['('][1].pop()\n",
        "            elif (counts['*'][0] > 0):\n",
        "                counts['*'][0] -= 1\n",
        "                counts['*'][1].pop()\n",
        "            else:\n",
        "                return False\n",
        "\n",
        "    if (counts['('][0] > counts['*'][0]):\n",
        "        return False\n",
        "    else:\n",
        "        while len(counts['('][1]) > 0:\n",
        "            try:\n",
        "                if counts['('][1].pop() > counts['*'][1].pop():\n",
        "                    return False\n",
        "            except:\n",
        "                return False\n",
        "            \n",
        "    return True\n",
        "\n",
        "check_valid_string('(())((())()()(*)(*()(())())())()()((()())((()))(*')"
      ],
      "execution_count": 98,
      "outputs": [
        {
          "output_type": "execute_result",
          "data": {
            "text/plain": [
              "False"
            ]
          },
          "metadata": {
            "tags": []
          },
          "execution_count": 98
        }
      ]
    },
    {
      "cell_type": "code",
      "metadata": {
        "id": "YlsDkgJtz-Mb",
        "colab_type": "code",
        "colab": {
          "base_uri": "https://localhost:8080/",
          "height": 181
        },
        "outputId": "96637dd4-316a-4723-fb61-1292c6c772a4"
      },
      "source": [
        "for i, case in enumerate(test_cases):\n",
        "    print(f'Case {i}: {case[0]}    Correct: {check_valid_string(case[0]) == case[1]}')"
      ],
      "execution_count": 99,
      "outputs": [
        {
          "output_type": "stream",
          "text": [
            "Case 0:     Correct: True\n",
            "Case 1: (    Correct: True\n",
            "Case 2: )    Correct: True\n",
            "Case 3: ()    Correct: True\n",
            "Case 4: *)    Correct: True\n",
            "Case 5: (*    Correct: True\n",
            "Case 6: (*)    Correct: True\n",
            "Case 7: (((******))    Correct: True\n",
            "Case 8: (())((())()()(*)(*()(())())())()()((()())((()))(*    Correct: True\n"
          ],
          "name": "stdout"
        }
      ]
    },
    {
      "cell_type": "code",
      "metadata": {
        "id": "QQbesFuf21za",
        "colab_type": "code",
        "colab": {
          "base_uri": "https://localhost:8080/",
          "height": 35
        },
        "outputId": "e8c5ca70-cb79-4659-b01e-76dceac3601e"
      },
      "source": [
        "def check_valid_string(s: str) -> bool:\n",
        "    opening = []\n",
        "    stars = []\n",
        "    for idx, char in enumerate(s):\n",
        "        if char == \"(\":\n",
        "            opening.append(idx)\n",
        "        if char == \"*\":\n",
        "            stars.append(idx)\n",
        "        if char == \")\":\n",
        "            if opening:\n",
        "                opening.pop()\n",
        "            elif stars:\n",
        "                stars.pop()\n",
        "            else:\n",
        "                return False\n",
        "    while opening:\n",
        "        if stars:\n",
        "            if stars.pop() < opening.pop():\n",
        "                return False\n",
        "        else:\n",
        "            return False\n",
        "    return True\n",
        "\n",
        "check_valid_string('(())((())()()(*)(*()(())())())()()((()())((()))(*')"
      ],
      "execution_count": 100,
      "outputs": [
        {
          "output_type": "execute_result",
          "data": {
            "text/plain": [
              "False"
            ]
          },
          "metadata": {
            "tags": []
          },
          "execution_count": 100
        }
      ]
    },
    {
      "cell_type": "code",
      "metadata": {
        "id": "2cRmiwXWJZeK",
        "colab_type": "code",
        "colab": {
          "base_uri": "https://localhost:8080/",
          "height": 181
        },
        "outputId": "224ae28e-3cfd-49f2-970f-553d00b089e7"
      },
      "source": [
        "for i, case in enumerate(test_cases):\n",
        "    print(f'Case {i}: {case[0]}    Correct: {check_valid_string(case[0]) == case[1]}')"
      ],
      "execution_count": 101,
      "outputs": [
        {
          "output_type": "stream",
          "text": [
            "Case 0:     Correct: True\n",
            "Case 1: (    Correct: True\n",
            "Case 2: )    Correct: True\n",
            "Case 3: ()    Correct: True\n",
            "Case 4: *)    Correct: True\n",
            "Case 5: (*    Correct: True\n",
            "Case 6: (*)    Correct: True\n",
            "Case 7: (((******))    Correct: True\n",
            "Case 8: (())((())()()(*)(*()(())())())()()((()())((()))(*    Correct: True\n"
          ],
          "name": "stdout"
        }
      ]
    },
    {
      "cell_type": "code",
      "metadata": {
        "id": "B3_iBvauJ5u2",
        "colab_type": "code",
        "colab": {}
      },
      "source": [
        ""
      ],
      "execution_count": 0,
      "outputs": []
    }
  ]
}