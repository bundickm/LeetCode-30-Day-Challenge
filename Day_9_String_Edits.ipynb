{
  "nbformat": 4,
  "nbformat_minor": 0,
  "metadata": {
    "colab": {
      "name": "Day 9 - String Edits.ipynb",
      "provenance": [],
      "authorship_tag": "ABX9TyNLaTz6HuJRR6KCrpbeyi22",
      "include_colab_link": true
    },
    "kernelspec": {
      "name": "python3",
      "display_name": "Python 3"
    }
  },
  "cells": [
    {
      "cell_type": "markdown",
      "metadata": {
        "id": "view-in-github",
        "colab_type": "text"
      },
      "source": [
        "<a href=\"https://colab.research.google.com/github/bundickm/LeetCode-30-Day-Challenge/blob/master/Day_9_String_Edits.ipynb\" target=\"_parent\"><img src=\"https://colab.research.google.com/assets/colab-badge.svg\" alt=\"Open In Colab\"/></a>"
      ]
    },
    {
      "cell_type": "markdown",
      "metadata": {
        "id": "RyzxeoQ5nvdO",
        "colab_type": "text"
      },
      "source": [
        "# Problem\n",
        "\n",
        "Given two strings S and T, return if they are equal when both are typed into empty text editors. # means a backspace character.\n",
        "\n",
        "Example 1:\n",
        "```\n",
        "Input: S = \"ab#c\", T = \"ad#c\"\n",
        "Output: true\n",
        "Explanation: Both S and T become \"ac\".\n",
        "```\n",
        "Example 2:\n",
        "```\n",
        "Input: S = \"ab##\", T = \"c#d#\"\n",
        "Output: true\n",
        "Explanation: Both S and T become \"\".\n",
        "```\n",
        "Example 3:\n",
        "```\n",
        "Input: S = \"a##c\", T = \"#a#c\"\n",
        "Output: true\n",
        "Explanation: Both S and T become \"c\".\n",
        "```\n",
        "Example 4:\n",
        "```\n",
        "Input: S = \"a#c\", T = \"b\"\n",
        "Output: false\n",
        "Explanation: S becomes \"c\" while T becomes \"b\".\n",
        "```\n",
        "Note:\n",
        "```\n",
        "    1 <= S.length <= 200\n",
        "    1 <= T.length <= 200\n",
        "    S and T only contain lowercase letters and '#' characters.\n",
        "```\n",
        "Follow up: Can you solve it in O(N) time and O(1) space?\n",
        "\n"
      ]
    },
    {
      "cell_type": "markdown",
      "metadata": {
        "id": "5z-qlI3Uv3EY",
        "colab_type": "text"
      },
      "source": [
        "# Solution"
      ]
    },
    {
      "cell_type": "code",
      "metadata": {
        "id": "pxfRMV0FnuwH",
        "colab_type": "code",
        "colab": {
          "base_uri": "https://localhost:8080/",
          "height": 35
        },
        "outputId": "675e2e3b-f79d-49a0-dcee-55ea966ec735"
      },
      "source": [
        "S = 'abbac##d#'\n",
        "T = 'aac##d#'\n",
        "\n",
        "def text_edit(text):\n",
        "    backspaces = 0\n",
        "    temp = []\n",
        "\n",
        "    for char in text[::-1]:\n",
        "        if char == '#':\n",
        "            backspaces += 1\n",
        "        elif backspaces > 0:\n",
        "            backspaces -= 1\n",
        "        else:\n",
        "            temp.append(char)\n",
        "    return ''.join(temp[::-1])\n",
        "\n",
        "text_edit(S) == text_edit(T)"
      ],
      "execution_count": 15,
      "outputs": [
        {
          "output_type": "execute_result",
          "data": {
            "text/plain": [
              "False"
            ]
          },
          "metadata": {
            "tags": []
          },
          "execution_count": 15
        }
      ]
    }
  ]
}