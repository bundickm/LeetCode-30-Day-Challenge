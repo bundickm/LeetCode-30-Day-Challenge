{
  "nbformat": 4,
  "nbformat_minor": 0,
  "metadata": {
    "colab": {
      "name": "Day 19 - Search in Rotated Sorted Array.ipynb",
      "provenance": [],
      "collapsed_sections": [],
      "authorship_tag": "ABX9TyM+A9EGJSmz0EEmuQXGRWLC",
      "include_colab_link": true
    },
    "kernelspec": {
      "name": "python3",
      "display_name": "Python 3"
    }
  },
  "cells": [
    {
      "cell_type": "markdown",
      "metadata": {
        "id": "view-in-github",
        "colab_type": "text"
      },
      "source": [
        "<a href=\"https://colab.research.google.com/github/bundickm/LeetCode-30-Day-Challenge/blob/master/Day_19_Search_in_Rotated_Sorted_Array.ipynb\" target=\"_parent\"><img src=\"https://colab.research.google.com/assets/colab-badge.svg\" alt=\"Open In Colab\"/></a>"
      ]
    },
    {
      "cell_type": "markdown",
      "metadata": {
        "id": "5wlGnqKxmmFh",
        "colab_type": "text"
      },
      "source": [
        "# Problem\n",
        "\n",
        "Suppose an array sorted in ascending order is rotated at some pivot unknown to you beforehand.\n",
        "\n",
        "(i.e., [0,1,2,4,5,6,7] might become [4,5,6,7,0,1,2]).\n",
        "\n",
        "You are given a target value to search. If found in the array return its index, otherwise return -1.\n",
        "\n",
        "You may assume no duplicate exists in the array.\n",
        "\n",
        "Your algorithm's runtime complexity must be in the order of O(log n).\n",
        "\n",
        "Example 1:\n",
        "```\n",
        "Input: nums = [4,5,6,7,0,1,2], target = 0\n",
        "Output: 4\n",
        "```\n",
        "Example 2:\n",
        "```\n",
        "Input: nums = [4,5,6,7,0,1,2], target = 3\n",
        "Output: -1\n",
        "```"
      ]
    },
    {
      "cell_type": "markdown",
      "metadata": {
        "id": "A6froFZjmt3g",
        "colab_type": "text"
      },
      "source": [
        "# Solution"
      ]
    },
    {
      "cell_type": "code",
      "metadata": {
        "id": "oWOqocLbrGi2",
        "colab_type": "code",
        "colab": {}
      },
      "source": [
        "def search(nums: list, target: int) -> int:\n",
        "    if not nums:\n",
        "        return -1\n",
        "\n",
        "    length = len(nums)\n",
        "    low = 0\n",
        "    high = length - 1\n",
        "\n",
        "    while low < high:\n",
        "        mid = (low + high) // 2\n",
        "        if nums[high] < nums[mid]:\n",
        "            low = mid + 1\n",
        "        else:\n",
        "            high = mid\n",
        "\n",
        "    pivot = low\n",
        "    low = pivot\n",
        "    high = length - 1 + pivot\n",
        "\n",
        "    while low < high:\n",
        "        mid = (low + high) // 2\n",
        "        if nums[mid % length] < target:\n",
        "            low = mid + 1\n",
        "        else:\n",
        "            high = mid\n",
        "\n",
        "    if nums[low % length] == target:\n",
        "        return (low % length)\n",
        "    else:\n",
        "        return -1"
      ],
      "execution_count": 0,
      "outputs": []
    },
    {
      "cell_type": "code",
      "metadata": {
        "id": "OA9AXnUPrwFd",
        "colab_type": "code",
        "outputId": "41082fb8-e375-44bc-f355-3018de6195d9",
        "colab": {
          "base_uri": "https://localhost:8080/",
          "height": 35
        }
      },
      "source": [
        "search([4,5,6,7,0,1,2], 3)"
      ],
      "execution_count": 0,
      "outputs": [
        {
          "output_type": "execute_result",
          "data": {
            "text/plain": [
              "-1"
            ]
          },
          "metadata": {
            "tags": []
          },
          "execution_count": 23
        }
      ]
    },
    {
      "cell_type": "code",
      "metadata": {
        "id": "sc9eV2PcrzuP",
        "colab_type": "code",
        "colab": {}
      },
      "source": [
        ""
      ],
      "execution_count": 0,
      "outputs": []
    }
  ]
}