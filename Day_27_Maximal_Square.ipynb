{
  "nbformat": 4,
  "nbformat_minor": 0,
  "metadata": {
    "colab": {
      "name": "Day 27 - Maximal Square.ipynb",
      "provenance": [],
      "collapsed_sections": [],
      "authorship_tag": "ABX9TyO6pFmxDSCzEjN+S0wj4VHL",
      "include_colab_link": true
    },
    "kernelspec": {
      "name": "python3",
      "display_name": "Python 3"
    }
  },
  "cells": [
    {
      "cell_type": "markdown",
      "metadata": {
        "id": "view-in-github",
        "colab_type": "text"
      },
      "source": [
        "<a href=\"https://colab.research.google.com/github/bundickm/LeetCode-30-Day-Challenge/blob/master/Day_27_Maximal_Square.ipynb\" target=\"_parent\"><img src=\"https://colab.research.google.com/assets/colab-badge.svg\" alt=\"Open In Colab\"/></a>"
      ]
    },
    {
      "cell_type": "markdown",
      "metadata": {
        "id": "yUMpr1SWXm2V",
        "colab_type": "text"
      },
      "source": [
        "# Problem\n",
        "\n",
        "Given a 2D binary matrix filled with 0's and 1's, find the largest square containing only 1's and return its area.\n",
        "\n",
        "Example:\n",
        "\n",
        "Input: \n",
        "```\n",
        "1 0 1 0 0\n",
        "1 0 1 1 1\n",
        "1 1 1 1 1\n",
        "1 0 0 1 0\n",
        "\n",
        "Output: 4\n",
        "```"
      ]
    },
    {
      "cell_type": "markdown",
      "metadata": {
        "id": "lezAcFdMXuLb",
        "colab_type": "text"
      },
      "source": [
        "# Solution"
      ]
    },
    {
      "cell_type": "code",
      "metadata": {
        "id": "_8zvP7a9Xjzw",
        "colab_type": "code",
        "colab": {}
      },
      "source": [
        "def maximal_square(self, matrix: List[List[str]]) -> int:\n",
        "        if len(matrix) == 0:\n",
        "            return 0\n",
        "    \n",
        "        n, m = len(matrix), len(matrix[0])\n",
        "        \n",
        "        dp = [[0 for i in range(m+1)] for j in range(n+1)]\n",
        "        \n",
        "        max_square = 0\n",
        "        for i in range(1, n+1):\n",
        "            for j in range(1, m+1):\n",
        "                if matrix[i-1][j-1] == \"1\":\n",
        "                    dp[i][j] = min(dp[i-1][j], dp[i][j-1], dp[i-1][j-1]) + 1\n",
        "                    max_square = max(max_square, dp[i][j])    \n",
        "        return max_square ** 2"
      ],
      "execution_count": 0,
      "outputs": []
    }
  ]
}